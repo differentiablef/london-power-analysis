{
 "cells": [
  {
   "cell_type": "code",
   "execution_count": 14,
   "metadata": {},
   "outputs": [],
   "source": [
    "import os\n",
    "import pandas as pd\n",
    "\n",
    "# Import daily power usage total for each customer. Create a pickle file.\n",
    "\n",
    "df = pd.read_csv('./dailyTotals.csv')\n",
    "df.to_pickle('./dailyTotals.csv.pkl')"
   ]
  },
  {
   "cell_type": "code",
   "execution_count": 15,
   "metadata": {},
   "outputs": [],
   "source": [
    "# Import a list of customers with complete power usage profiles.\n",
    "\n",
    "dfPerfectCustomers = pd.read_csv('./perfectCustomersUnclassified.csv')"
   ]
  },
  {
   "cell_type": "code",
   "execution_count": 16,
   "metadata": {},
   "outputs": [],
   "source": [
    "dfPerfectDailyTotals = pd.merge(dfPerfectCustomers, df, on='id', how='left')\n",
    "dfPerfectDailyTotals.drop(columns=['acorn', 'acorn-grouped'], inplace=True)\n",
    "dfPerfectDailyTotals.to_csv('./perfectDailyTotals.csv', index=False)\n",
    "dfPerfectDailyTotals.to_pickle('./perfectDailyTotals.csv.pkl')"
   ]
  },
  {
   "cell_type": "code",
   "execution_count": 17,
   "metadata": {},
   "outputs": [],
   "source": [
    "dfid = df['id']\n",
    "dft = df.drop(columns = ['id']).transpose()\n",
    "dft.reset_index(inplace = True)\n",
    "\n",
    "dft['index'] = dft['index'].apply(lambda x: str(x)[0:7])"
   ]
  },
  {
   "cell_type": "code",
   "execution_count": 18,
   "metadata": {},
   "outputs": [],
   "source": [
    "# Monthly sum. Entire customers.\n",
    "\n",
    "dftgp = dft.groupby(['index']).sum()\n",
    "dfMonthlySum = dftgp.transpose()\n",
    "dfMonthlySum.insert (0, \"id\", dfid)\n",
    "dfMonthlySum.to_csv(\"./monthlySumEntire.csv\", index=False)"
   ]
  },
  {
   "cell_type": "code",
   "execution_count": 19,
   "metadata": {},
   "outputs": [],
   "source": [
    "# Monthly mean. Entire customers.\n",
    "\n",
    "dftgp = dft.groupby(['index']).mean()\n",
    "dfMonthlyMean = dftgp.transpose()\n",
    "dfMonthlyMean.insert (0, \"id\", dfid)\n",
    "dfMonthlyMean.to_csv(\"./monthlyMeanEntire.csv\", index=False)"
   ]
  },
  {
   "cell_type": "code",
   "execution_count": 20,
   "metadata": {},
   "outputs": [],
   "source": [
    "# Monthly max. Entire customers.\n",
    "\n",
    "dftgp = dft.groupby(['index']).max()\n",
    "dfMonthlyMax = dftgp.transpose()\n",
    "dfMonthlyMax.insert (0, \"id\", dfid)\n",
    "dfMonthlyMax.to_csv(\"./monthlyMaxEntire.csv\", index=False)"
   ]
  },
  {
   "cell_type": "code",
   "execution_count": 21,
   "metadata": {},
   "outputs": [],
   "source": [
    "# Monthly std. Entire customers.\n",
    "\n",
    "dftgp = dft.groupby(['index']).std()\n",
    "dfMonthlyStd = dftgp.transpose()\n",
    "dfMonthlyStd.insert (0, \"id\", dfid)\n",
    "dfMonthlyStd.to_csv(\"./monthlyStdEntire.csv\", index=False)"
   ]
  },
  {
   "cell_type": "code",
   "execution_count": 22,
   "metadata": {},
   "outputs": [],
   "source": [
    "dfid = dfPerfectDailyTotals['id']\n",
    "dft = dfPerfectDailyTotals.drop(columns = ['id']).transpose()\n",
    "dft.reset_index(inplace = True)\n",
    "\n",
    "dft['index'] = dft['index'].apply(lambda x: str(x)[0:7])"
   ]
  },
  {
   "cell_type": "code",
   "execution_count": 23,
   "metadata": {},
   "outputs": [],
   "source": [
    "# Monthly sum. Perfect customers.\n",
    "\n",
    "dftgp = dft.groupby(['index']).sum()\n",
    "dfMonthlySumPerfect = dftgp.transpose()\n",
    "dfMonthlySumPerfect.insert (0, \"id\", dfid)\n",
    "dfMonthlySumPerfect.to_csv(\"./monthlySumPerfect.csv\", index=False)"
   ]
  },
  {
   "cell_type": "code",
   "execution_count": 24,
   "metadata": {},
   "outputs": [],
   "source": [
    "# Monthly mean. Perfect customers.\n",
    "\n",
    "dftgp = dft.groupby(['index']).mean()\n",
    "dfMonthlyMeanPerfect = dftgp.transpose()\n",
    "dfMonthlyMeanPerfect.insert (0, \"id\", dfid)\n",
    "dfMonthlyMeanPerfect.to_csv(\"./monthlyMeanPerfect.csv\", index=False)"
   ]
  },
  {
   "cell_type": "code",
   "execution_count": 25,
   "metadata": {},
   "outputs": [],
   "source": [
    "# Monthly max. Perfect customers.\n",
    "\n",
    "dftgp = dft.groupby(['index']).max()\n",
    "dfMonthlyMaxPerfect = dftgp.transpose()\n",
    "dfMonthlyMaxPerfect.insert (0, \"id\", dfid)\n",
    "dfMonthlyMaxPerfect.to_csv(\"./monthlyMaxPerfect.csv\", index=False)"
   ]
  },
  {
   "cell_type": "code",
   "execution_count": 26,
   "metadata": {},
   "outputs": [],
   "source": [
    "# Monthly std. Perfect customers.\n",
    "\n",
    "dftgp = dft.groupby(['index']).std()\n",
    "dfMonthlyStdPerfect = dftgp.transpose()\n",
    "dfMonthlyStdPerfect.insert (0, \"id\", dfid)\n",
    "dfMonthlyStdPerfect.to_csv(\"./monthlyStdPerfect.csv\", index=False)"
   ]
  },
  {
   "cell_type": "code",
   "execution_count": 27,
   "metadata": {},
   "outputs": [
    {
     "name": "stdout",
     "output_type": "stream",
     "text": [
      "0          2\n",
      "1          3\n",
      "2          4\n",
      "3          6\n",
      "4          7\n",
      "5          8\n",
      "6          9\n",
      "7         10\n",
      "8         11\n",
      "9         12\n",
      "10        13\n",
      "11        16\n",
      "12        18\n",
      "13        19\n",
      "14        20\n",
      "15        21\n",
      "16        22\n",
      "17        23\n",
      "18        24\n",
      "19        25\n",
      "20        26\n",
      "21        27\n",
      "22        28\n",
      "23        29\n",
      "24        30\n",
      "25        32\n",
      "26        33\n",
      "27        34\n",
      "28        35\n",
      "29        36\n",
      "        ... \n",
      "4381    5519\n",
      "4382    5520\n",
      "4383    5521\n",
      "4384    5523\n",
      "4385    5525\n",
      "4386    5526\n",
      "4387    5527\n",
      "4388    5528\n",
      "4389    5530\n",
      "4390    5531\n",
      "4391    5532\n",
      "4392    5534\n",
      "4393    5539\n",
      "4394    5540\n",
      "4395    5542\n",
      "4396    5543\n",
      "4397    5544\n",
      "4398    5545\n",
      "4399    5546\n",
      "4400    5547\n",
      "4401    5548\n",
      "4402    5552\n",
      "4403    5553\n",
      "4404    5554\n",
      "4405    5555\n",
      "4406    5558\n",
      "4407    5561\n",
      "4408    5562\n",
      "4409    5566\n",
      "4410    5567\n",
      "Name: id, Length: 4411, dtype: int64\n"
     ]
    }
   ],
   "source": [
    "# Are all 'perfect' customers contained in the dailyTotals dataframe (df) ?\n",
    "\n",
    "print(df['id'])"
   ]
  },
  {
   "cell_type": "code",
   "execution_count": 29,
   "metadata": {},
   "outputs": [
    {
     "name": "stdout",
     "output_type": "stream",
     "text": [
      "0         2\n",
      "1         6\n",
      "2        10\n",
      "3        18\n",
      "4        19\n",
      "5        27\n",
      "6        40\n",
      "7        49\n",
      "8        57\n",
      "9        60\n",
      "10       91\n",
      "11       99\n",
      "12      100\n",
      "13      102\n",
      "14      111\n",
      "15      116\n",
      "16      117\n",
      "17      123\n",
      "18      131\n",
      "19      140\n",
      "20      145\n",
      "21      152\n",
      "22      162\n",
      "23      168\n",
      "24      179\n",
      "25      180\n",
      "26      181\n",
      "27      228\n",
      "28      248\n",
      "29      255\n",
      "       ... \n",
      "851    5398\n",
      "852    5402\n",
      "853    5405\n",
      "854    5406\n",
      "855    5408\n",
      "856    5409\n",
      "857    5412\n",
      "858    5418\n",
      "859    5433\n",
      "860    5439\n",
      "861    5450\n",
      "862    5451\n",
      "863    5455\n",
      "864    5457\n",
      "865    5458\n",
      "866    5461\n",
      "867    5463\n",
      "868    5475\n",
      "869    5480\n",
      "870    5497\n",
      "871    5500\n",
      "872    5512\n",
      "873    5518\n",
      "874    5525\n",
      "875    5526\n",
      "876    5527\n",
      "877    5530\n",
      "878    5539\n",
      "879    5540\n",
      "880    5552\n",
      "Name: id, Length: 881, dtype: int64\n"
     ]
    }
   ],
   "source": [
    "print(dfPerfectCustomers['id'])"
   ]
  },
  {
   "cell_type": "code",
   "execution_count": 32,
   "metadata": {},
   "outputs": [],
   "source": [
    "dfPerfectCount = pd.merge(df[['id']], dfPerfectCustomers, on='id', how='inner')"
   ]
  },
  {
   "cell_type": "code",
   "execution_count": 35,
   "metadata": {},
   "outputs": [
    {
     "name": "stdout",
     "output_type": "stream",
     "text": [
      "881\n"
     ]
    }
   ],
   "source": [
    "print(len(dfPerfectCount))"
   ]
  }
 ],
 "metadata": {
  "kernelspec": {
   "display_name": "Python 3",
   "language": "python",
   "name": "python3"
  },
  "language_info": {
   "codemirror_mode": {
    "name": "ipython",
    "version": 3
   },
   "file_extension": ".py",
   "mimetype": "text/x-python",
   "name": "python",
   "nbconvert_exporter": "python",
   "pygments_lexer": "ipython3",
   "version": "3.7.3"
  }
 },
 "nbformat": 4,
 "nbformat_minor": 2
}
