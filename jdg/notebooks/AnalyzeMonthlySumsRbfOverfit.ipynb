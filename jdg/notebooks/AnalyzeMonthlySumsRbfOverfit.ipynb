{
 "cells": [
  {
   "cell_type": "code",
   "execution_count": 1,
   "metadata": {},
   "outputs": [],
   "source": [
    "import pandas as pd\n",
    "\n",
    "df = pd.read_csv(\"../../refined/MonthlySumPerfect.csv\")\n",
    "dfAcorn = pd.read_csv(\"../../refined/perfectCustomers.csv\")"
   ]
  },
  {
   "cell_type": "markdown",
   "metadata": {},
   "source": [
    "<h2>Label = 'Affluent'</h2>"
   ]
  },
  {
   "cell_type": "code",
   "execution_count": 2,
   "metadata": {},
   "outputs": [],
   "source": [
    "X = df.drop(columns = ['id'])\n",
    "y = (dfAcorn['acorn-grouped'] == 'Affluent').astype(int).values\n",
    "z = dfAcorn['acorn-grouped']\n",
    "\n",
    "target_names = [\"Non-Affluent\", \"Affluent\"]"
   ]
  },
  {
   "cell_type": "code",
   "execution_count": 3,
   "metadata": {},
   "outputs": [],
   "source": [
    "# Perform a train-test split.\n",
    "\n",
    "from sklearn.model_selection import train_test_split\n",
    "\n",
    "# Default split ratio is test = 0.25, train = 0.75.\n",
    "# The stratify=z ensures that we have pro-rata sampling from each acorn-group.\n",
    "\n",
    "X_train, X_test, y_train, y_test = train_test_split(X, y, random_state=31, stratify=z)"
   ]
  },
  {
   "cell_type": "markdown",
   "metadata": {},
   "source": [
    "<h2>SVC Gaussian Kernel</h2>"
   ]
  },
  {
   "cell_type": "code",
   "execution_count": 5,
   "metadata": {},
   "outputs": [
    {
     "name": "stdout",
     "output_type": "stream",
     "text": [
      "Fitting 5 folds for each of 20 candidates, totalling 100 fits\n"
     ]
    },
    {
     "name": "stderr",
     "output_type": "stream",
     "text": [
      "[Parallel(n_jobs=-1)]: Using backend LokyBackend with 8 concurrent workers.\n",
      "[Parallel(n_jobs=-1)]: Done  16 tasks      | elapsed:    2.1s\n"
     ]
    },
    {
     "name": "stdout",
     "output_type": "stream",
     "text": [
      "{'C': 5, 'gamma': 0.001}\n",
      "[LibSVM] .. Done\n",
      "Train accuracy =  1.0\n",
      "Test accuracy  =  0.58\n",
      "              precision    recall  f1-score   support\n",
      "\n",
      "Non-Affluent       0.60      0.96      0.74       133\n",
      "    Affluent       0.17      0.01      0.02        88\n",
      "\n",
      "    accuracy                           0.58       221\n",
      "   macro avg       0.38      0.49      0.38       221\n",
      "weighted avg       0.42      0.58      0.45       221\n",
      "\n"
     ]
    },
    {
     "name": "stderr",
     "output_type": "stream",
     "text": [
      "[Parallel(n_jobs=-1)]: Done 100 out of 100 | elapsed:    2.4s finished\n"
     ]
    }
   ],
   "source": [
    "param_grid = {'C': [1, 5, 10, 50], \n",
    "              'gamma': [0.0001, 0.0005, 0.001, 0.002, 0.005]}\n",
    "\n",
    "from trial import rbfTrial\n",
    "\n",
    "rbfTrial(param_grid, target_names, \n",
    "         X_train, X_test, \n",
    "         y_train, y_test)"
   ]
  },
  {
   "cell_type": "code",
   "execution_count": null,
   "metadata": {},
   "outputs": [],
   "source": []
  }
 ],
 "metadata": {
  "kernelspec": {
   "display_name": "Python 3",
   "language": "python",
   "name": "python3"
  },
  "language_info": {
   "codemirror_mode": {
    "name": "ipython",
    "version": 3
   },
   "file_extension": ".py",
   "mimetype": "text/x-python",
   "name": "python",
   "nbconvert_exporter": "python",
   "pygments_lexer": "ipython3",
   "version": "3.7.5"
  }
 },
 "nbformat": 4,
 "nbformat_minor": 2
}
