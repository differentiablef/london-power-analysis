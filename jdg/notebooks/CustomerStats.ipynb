{
 "cells": [
  {
   "cell_type": "markdown",
   "metadata": {},
   "source": [
    "<h2>Outputs the support for each Acorn group </h2>\n",
    "<p>\n",
    "for:\n",
    "<br>\n",
    "<br>1. Perfect Customers - customers whose power usage time series covers the entire year without gaps,\n",
    "<br>2. Entire Customers  - entire catalog of customers.\n",
    "</p>"
   ]
  },
  {
   "cell_type": "code",
   "execution_count": 1,
   "metadata": {},
   "outputs": [],
   "source": [
    "import pandas as pd\n",
    "\n",
    "pc = pd.read_csv('../../refined/perfectCustomers.csv')\n",
    "ec = pd.read_csv('../../refined/entireCustomers.csv')"
   ]
  },
  {
   "cell_type": "code",
   "execution_count": 2,
   "metadata": {},
   "outputs": [],
   "source": [
    "from collections import Counter\n",
    "\n",
    "pcCount = Counter(pc['acorn-grouped'])\n",
    "ecCount = Counter(ec['acorn-grouped'])"
   ]
  },
  {
   "cell_type": "code",
   "execution_count": 3,
   "metadata": {},
   "outputs": [
    {
     "name": "stdout",
     "output_type": "stream",
     "text": [
      "Counter({'Affluent': 349, 'Adversity': 281, 'Comfortable': 241, 'ACORN-U': 10})\n"
     ]
    }
   ],
   "source": [
    "print(pcCount)"
   ]
  },
  {
   "cell_type": "code",
   "execution_count": 4,
   "metadata": {},
   "outputs": [
    {
     "name": "stdout",
     "output_type": "stream",
     "text": [
      "Counter({'Affluent': 1687, 'Adversity': 1511, 'Comfortable': 1174, 'ACORN-U': 39})\n"
     ]
    }
   ],
   "source": [
    "print(ecCount)"
   ]
  },
  {
   "cell_type": "markdown",
   "metadata": {},
   "source": [
    "<p>The following illustrates that the proportions of support for each Acorn group are roughly the\n",
    "same for the 'perfect' customers as they are for the entire customer set.</p>"
   ]
  },
  {
   "cell_type": "code",
   "execution_count": 5,
   "metadata": {},
   "outputs": [
    {
     "name": "stdout",
     "output_type": "stream",
     "text": [
      "PERFECT CUSTOMERS\n",
      "Affluent 0.3961407491486947\n",
      "Adversity 0.318955732122588\n",
      "Comfortable 0.2735527809307605\n",
      "ACORN-U 0.011350737797956867\n",
      "-------------------------\n",
      "ENTIRE CUSTOMERS\n",
      "Affluent 0.38245295851280886\n",
      "Adversity 0.3425527091362503\n",
      "Comfortable 0.2661527998186352\n",
      "ACORN-U 0.0088415325323056\n"
     ]
    }
   ],
   "source": [
    "pcSum = sum(pcCount.values())\n",
    "ecSum = sum(ecCount.values())\n",
    "\n",
    "print('PERFECT CUSTOMERS')\n",
    "for xx in pcCount.keys():\n",
    "    print(xx, pcCount[xx]/pcSum)\n",
    "    \n",
    "print('-------------------------')\n",
    " \n",
    "print('ENTIRE CUSTOMERS')\n",
    "for xx in ecCount.keys():\n",
    "    print(xx, ecCount[xx]/ecSum)\n",
    "    "
   ]
  }
 ],
 "metadata": {
  "kernelspec": {
   "display_name": "Python 3",
   "language": "python",
   "name": "python3"
  },
  "language_info": {
   "codemirror_mode": {
    "name": "ipython",
    "version": 3
   },
   "file_extension": ".py",
   "mimetype": "text/x-python",
   "name": "python",
   "nbconvert_exporter": "python",
   "pygments_lexer": "ipython3",
   "version": "3.7.3"
  }
 },
 "nbformat": 4,
 "nbformat_minor": 2
}
