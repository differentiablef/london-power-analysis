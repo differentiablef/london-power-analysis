{
 "cells": [
  {
   "cell_type": "markdown",
   "metadata": {},
   "source": [
    "<h2>Generate entireCustomers.csv and perfectCustomers.csv</h2>\n",
    "<p>using month by month customer energy usage data contained in 'raw'.</p>\n",
    "<p>Identify the customers with perfect time series for each month of 2013 and create the\n",
    "'perfectCustomers' csv file containing 'id', 'acorn', 'acorn-grouped'. </p>\n",
    "<p>Identify the any customer with a time series for any month of 2013 and create the\n",
    "'entireCustomers' csv file containing 'id', 'acorn', 'acorn-grouped'. </p>"
   ]
  },
  {
   "cell_type": "code",
   "execution_count": 3,
   "metadata": {},
   "outputs": [],
   "source": [
    "headers=['id', 'pricing', 'datetime',\n",
    "         'kWh', 'acorn', 'acorn-grouped']\n",
    "\n",
    "def process_file(fpath):\n",
    "    \n",
    "    # Given a filename in 'fpath', returns a tuple containing:\n",
    "    # 0. A list of customer ids for which there is a full month's time series.\n",
    "    # 1. A dataframe containing columns 'id', 'acorn', 'acorn-grouped' for any\n",
    "    #    customer for which a time series exists.\n",
    "    \n",
    "    df = pd.read_csv(fpath, names=headers, low_memory=False)\n",
    "    \n",
    "    # Take the 'MAC' identifier off the id.\n",
    "\n",
    "    df['id'] = df['id'].apply(lambda x: int(x[3:]))\n",
    "    \n",
    "    # Get rid of duplicates.\n",
    "    \n",
    "    xdf = df.groupby(['id', 'datetime']).first()\n",
    "    df = xdf.reset_index(level=1)\n",
    "    \n",
    "    # Curtail the datetime entries to look like dates,\n",
    "    # so readings from the same day can be grouped together using 'date.'\n",
    "    \n",
    "    df['datetime'] = df['datetime'].astype(str).str[0:10]\n",
    "    \n",
    "    df.reset_index(inplace=True)\n",
    "    \n",
    "    # Log how many readings exist for each customer id.\n",
    "    \n",
    "    from collections import Counter\n",
    "    axa = Counter(df['id'])\n",
    "    \n",
    "    # What is the maximum number of readings indicated for any customer id\n",
    "    # from this month.\n",
    "    \n",
    "    maxval = max(axa.values())\n",
    "    print(maxval)\n",
    "    \n",
    "    fullList = [a for (a,b) in axa.items() if b==maxval]\n",
    "    \n",
    "    dfx = df[['id', 'acorn', 'acorn-grouped']].groupby('id').first()\n",
    "    \n",
    "    return fullList, dfx\n"
   ]
  },
  {
   "cell_type": "code",
   "execution_count": 4,
   "metadata": {},
   "outputs": [
    {
     "name": "stdout",
     "output_type": "stream",
     "text": [
      "2013-01-power-survey-london.csv.bz2\n",
      "1488\n",
      "2013-02-power-survey-london.csv.bz2\n",
      "1344\n",
      "2013-03-power-survey-london.csv.bz2\n",
      "1488\n",
      "2013-04-power-survey-london.csv.bz2\n",
      "1440\n",
      "2013-05-power-survey-london.csv.bz2\n",
      "1488\n",
      "2013-06-power-survey-london.csv.bz2\n",
      "1440\n",
      "2013-07-power-survey-london.csv.bz2\n",
      "1488\n",
      "2013-08-power-survey-london.csv.bz2\n",
      "1488\n",
      "2013-09-power-survey-london.csv.bz2\n",
      "1440\n",
      "2013-10-power-survey-london.csv.bz2\n",
      "1488\n",
      "2013-11-power-survey-london.csv.bz2\n",
      "1440\n",
      "2013-12-power-survey-london.csv.bz2\n",
      "1488\n"
     ]
    }
   ],
   "source": [
    "import pandas as pd\n",
    "import numpy as np\n",
    "import os\n",
    "\n",
    "raw_dir = os.path.join('..', '..', 'raw')\n",
    "\n",
    "# Build customerList - a list of customer id's, with each id appearing\n",
    "# once for every month in 2013 for which it has a complete time series representation.\n",
    "\n",
    "# Build dfacorn - a dataframe containing columns 'id', 'acorn', 'acorn-grouped'\n",
    "# with each customer 'id' appearing once for each month that it has any time series\n",
    "# representation.\n",
    "\n",
    "customerList = []\n",
    "dfacorn = pd.DataFrame()\n",
    "\n",
    "with os.scandir(raw_dir) as it:\n",
    "    for entry in it:   \n",
    "        if entry.name[0:4] == '2013':\n",
    "            print(entry.name)\n",
    "            cl, dfa = process_file(entry.path)\n",
    "            customerList.extend(cl)\n",
    "            dfacorn = dfacorn.append(dfa)"
   ]
  },
  {
   "cell_type": "code",
   "execution_count": 5,
   "metadata": {},
   "outputs": [],
   "source": [
    "# Determine how many times each customer appears in customerList. Those\n",
    "# that appear all 12 times will be designated 'perfect' customers.\n",
    "\n",
    "from collections import Counter\n",
    "xcount = Counter(customerList)"
   ]
  },
  {
   "cell_type": "code",
   "execution_count": 6,
   "metadata": {},
   "outputs": [],
   "source": [
    "# Form a list of ids for customers who have a complete record over the 12 months of 2013.\n",
    "\n",
    "customerList = [a for (a,b) in xcount.items() if b==12]"
   ]
  },
  {
   "cell_type": "code",
   "execution_count": 7,
   "metadata": {},
   "outputs": [],
   "source": [
    "# Reminder - dfacorn is a dataframe containing columns 'id', 'acorn', 'acorn-grouped',\n",
    "# for each customer id with a time series representation in 2013. There may be duplicate\n",
    "# instances of customer id's. \n",
    "\n",
    "# Create the entire customers dataframe, making sure we only have one row for each customer..\n",
    "\n",
    "entireCustomers = dfacorn.reset_index(level=0).groupby(['id']).first()"
   ]
  },
  {
   "cell_type": "code",
   "execution_count": 8,
   "metadata": {},
   "outputs": [],
   "source": [
    "# Create the perfect customers dataframe.\n",
    "\n",
    "actmp = entireCustomers.reset_index(level=0)\n",
    "perfectCustomers = actmp.loc[actmp['id'].isin(customerList),:]"
   ]
  },
  {
   "cell_type": "code",
   "execution_count": 9,
   "metadata": {},
   "outputs": [],
   "source": [
    "# Export the entire and perfect customer lists in csv format.\n",
    "\n",
    "entireCustomers.to_csv('../../refined/entireCustomers.csv')\n",
    "perfectCustomers.to_csv('../../refined/perfectCustomers.csv', index=False)"
   ]
  }
 ],
 "metadata": {
  "kernelspec": {
   "display_name": "Python 3",
   "language": "python",
   "name": "python3"
  },
  "language_info": {
   "codemirror_mode": {
    "name": "ipython",
    "version": 3
   },
   "file_extension": ".py",
   "mimetype": "text/x-python",
   "name": "python",
   "nbconvert_exporter": "python",
   "pygments_lexer": "ipython3",
   "version": "3.7.3"
  }
 },
 "nbformat": 4,
 "nbformat_minor": 2
}
