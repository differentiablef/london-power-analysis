{
 "cells": [
  {
   "cell_type": "markdown",
   "metadata": {},
   "source": [
    "<h2>Generate Monthly Aggregate Data</h2>\n",
    "<br>\n",
    "<p>Also generate daily power usage sums for the perfect customers - perfectDailyTotals.csv.</p>\n",
    "\n",
    "<h4>Monthly Aggregate Data</h4>\n",
    "\n",
    "<ul>\n",
    "<li>1. - monthlySumEntire.csv\n",
    "<li>2. - monthlyMeanEntire.csv\n",
    "<li>3. - monthlyMaxEntire.csv\n",
    "<li>4. - monthlyStdEntire.csv\n",
    "<li>5. - monthlySumPerfect.csv\n",
    "<li>6. - monthlyMeanPerfect.csv\n",
    "<li>7. - monthlyMaxPerfect.csv\n",
    "<li>8. - monthlyStdPerfect.csv\n",
    "</ul>"
   ]
  },
  {
   "cell_type": "code",
   "execution_count": 19,
   "metadata": {},
   "outputs": [],
   "source": [
    "import os\n",
    "import pandas as pd\n",
    "\n",
    "# Import daily power usage total for each customer.\n",
    "\n",
    "df = pd.read_csv('../../refined/dailyTotals.csv')"
   ]
  },
  {
   "cell_type": "code",
   "execution_count": 20,
   "metadata": {},
   "outputs": [],
   "source": [
    "# Import a list of customers with complete power usage profiles.\n",
    "\n",
    "dfPerfectCustomers = pd.read_csv('../../refined/perfectCustomers.csv')"
   ]
  },
  {
   "cell_type": "code",
   "execution_count": 21,
   "metadata": {},
   "outputs": [],
   "source": [
    "# Restrict the daily totals dataframe to contain data relating only to 'perfect' customers.\n",
    "# Achieved by performing a left join from the perfectCustomers dataframe with the daily totals\n",
    "# dataframe.\n",
    "\n",
    "dfPerfectDailyTotals = pd.merge(dfPerfectCustomers[['id']], df, on='id', how='left')\n",
    "dfPerfectDailyTotals.to_csv('../../refined/perfectDailyTotals.csv', index=False)\n",
    "dfPerfectDailyTotals.to_pickle('../../refined/perfectDailyTotals.csv.pkl')"
   ]
  },
  {
   "cell_type": "code",
   "execution_count": 22,
   "metadata": {},
   "outputs": [],
   "source": [
    "# Prepare the entire daily totals dataframe (df) for monthly aggregation.\n",
    "# Create a link to the 'id' column for the daily totals. (2B used later).\n",
    "\n",
    "dfid = df['id']\n",
    "\n",
    "# The following creates a dataframe that is indexed by the dates.\n",
    "dft = df.drop(columns = ['id']).transpose()\n",
    "\n",
    "# The following turns the newly created dataframe's index values into a coulumn.\n",
    "dft.reset_index(inplace = True)\n",
    "\n",
    "# Now truncate the string representations of the dates in the 'index' column \n",
    "# so that they represent months.\n",
    "\n",
    "dft['index'] = dft['index'].apply(lambda x: str(x)[0:7])"
   ]
  },
  {
   "cell_type": "markdown",
   "metadata": {},
   "source": [
    "<p>There is now a series of groupby commands that will perform monthly aggregations of the \n",
    "power usegae data for the entire customer set. </p>"
   ]
  },
  {
   "cell_type": "code",
   "execution_count": 23,
   "metadata": {},
   "outputs": [],
   "source": [
    "# Monthly sum. Entire customers.\n",
    "\n",
    "dftgp = dft.groupby(['index']).sum()\n",
    "dfMonthlySum = dftgp.transpose()\n",
    "dfMonthlySum.insert (0, \"id\", dfid)\n",
    "dfMonthlySum.to_csv(\"../../refined/monthlySumEntire.csv\", index=False)"
   ]
  },
  {
   "cell_type": "code",
   "execution_count": 24,
   "metadata": {},
   "outputs": [],
   "source": [
    "# Monthly mean. Entire customers.\n",
    "\n",
    "dftgp = dft.groupby(['index']).mean()\n",
    "dfMonthlyMean = dftgp.transpose()\n",
    "dfMonthlyMean.insert (0, \"id\", dfid)\n",
    "dfMonthlyMean.to_csv(\"../../refined/monthlyMeanEntire.csv\", index=False)"
   ]
  },
  {
   "cell_type": "code",
   "execution_count": 25,
   "metadata": {},
   "outputs": [],
   "source": [
    "# Monthly max. Entire customers.\n",
    "\n",
    "dftgp = dft.groupby(['index']).max()\n",
    "dfMonthlyMax = dftgp.transpose()\n",
    "dfMonthlyMax.insert (0, \"id\", dfid)\n",
    "dfMonthlyMax.to_csv(\"../../refined/monthlyMaxEntire.csv\", index=False)"
   ]
  },
  {
   "cell_type": "code",
   "execution_count": 26,
   "metadata": {},
   "outputs": [],
   "source": [
    "# Monthly std. Entire customers.\n",
    "\n",
    "dftgp = dft.groupby(['index']).std()\n",
    "dfMonthlyStd = dftgp.transpose()\n",
    "dfMonthlyStd.insert (0, \"id\", dfid)\n",
    "dfMonthlyStd.to_csv(\"../../refined/monthlyStdEntire.csv\", index=False)"
   ]
  },
  {
   "cell_type": "code",
   "execution_count": 27,
   "metadata": {},
   "outputs": [],
   "source": [
    "# Prepare the perfect daily totals dataframe (dfPerfectDailyTotals) for monthly aggregation.\n",
    "\n",
    "dfid = dfPerfectDailyTotals['id']\n",
    "dft = dfPerfectDailyTotals.drop(columns = ['id']).transpose()\n",
    "dft.reset_index(inplace = True)\n",
    "\n",
    "# Now truncate the string representations of the dates in the 'index' column \n",
    "# so that they represent months.\n",
    "\n",
    "dft['index'] = dft['index'].apply(lambda x: str(x)[0:7])"
   ]
  },
  {
   "cell_type": "code",
   "execution_count": 28,
   "metadata": {},
   "outputs": [],
   "source": [
    "# Monthly sum. Perfect customers.\n",
    "\n",
    "dftgp = dft.groupby(['index']).sum()\n",
    "dfMonthlySumPerfect = dftgp.transpose()\n",
    "dfMonthlySumPerfect.insert (0, \"id\", dfid)\n",
    "dfMonthlySumPerfect.to_csv(\"../../refined/monthlySumPerfect.csv\", index=False)"
   ]
  },
  {
   "cell_type": "code",
   "execution_count": 29,
   "metadata": {},
   "outputs": [],
   "source": [
    "# Monthly mean. Perfect customers.\n",
    "\n",
    "dftgp = dft.groupby(['index']).mean()\n",
    "dfMonthlyMeanPerfect = dftgp.transpose()\n",
    "dfMonthlyMeanPerfect.insert (0, \"id\", dfid)\n",
    "dfMonthlyMeanPerfect.to_csv(\"../../refined/monthlyMeanPerfect.csv\", index=False)"
   ]
  },
  {
   "cell_type": "code",
   "execution_count": 30,
   "metadata": {},
   "outputs": [],
   "source": [
    "# Monthly max. Perfect customers.\n",
    "\n",
    "dftgp = dft.groupby(['index']).max()\n",
    "dfMonthlyMaxPerfect = dftgp.transpose()\n",
    "dfMonthlyMaxPerfect.insert (0, \"id\", dfid)\n",
    "dfMonthlyMaxPerfect.to_csv(\"../../refined/monthlyMaxPerfect.csv\", index=False)"
   ]
  },
  {
   "cell_type": "code",
   "execution_count": 31,
   "metadata": {},
   "outputs": [],
   "source": [
    "# Monthly std. Perfect customers.\n",
    "\n",
    "dftgp = dft.groupby(['index']).std()\n",
    "dfMonthlyStdPerfect = dftgp.transpose()\n",
    "dfMonthlyStdPerfect.insert (0, \"id\", dfid)\n",
    "dfMonthlyStdPerfect.to_csv(\"../../refined/monthlyStdPerfect.csv\", index=False)"
   ]
  },
  {
   "cell_type": "code",
   "execution_count": 32,
   "metadata": {},
   "outputs": [
    {
     "name": "stdout",
     "output_type": "stream",
     "text": [
      "881\n"
     ]
    }
   ],
   "source": [
    "# How many perfect customers are there in the entire customers data set ?\n",
    "# Spot check to make sure something hasn't been missed somewhere.\n",
    "\n",
    "dfPerfectCount = pd.merge(df[['id']], dfPerfectCustomers, on='id', how='inner')\n",
    "print(len(dfPerfectCount))"
   ]
  },
  {
   "cell_type": "code",
   "execution_count": 33,
   "metadata": {},
   "outputs": [
    {
     "name": "stdout",
     "output_type": "stream",
     "text": [
      "4411\n",
      "881\n"
     ]
    }
   ],
   "source": [
    "print(len(df))\n",
    "print(len(dfPerfectDailyTotals))"
   ]
  }
 ],
 "metadata": {
  "kernelspec": {
   "display_name": "Python 3",
   "language": "python",
   "name": "python3"
  },
  "language_info": {
   "codemirror_mode": {
    "name": "ipython",
    "version": 3
   },
   "file_extension": ".py",
   "mimetype": "text/x-python",
   "name": "python",
   "nbconvert_exporter": "python",
   "pygments_lexer": "ipython3",
   "version": "3.7.3"
  }
 },
 "nbformat": 4,
 "nbformat_minor": 2
}
