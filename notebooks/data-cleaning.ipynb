{
 "cells": [
  {
   "cell_type": "markdown",
   "metadata": {},
   "source": [
    "# Cleaning The Raw Data"
   ]
  },
  {
   "cell_type": "markdown",
   "metadata": {},
   "source": [
    "## Import Depnedencies"
   ]
  },
  {
   "cell_type": "code",
   "execution_count": 1,
   "metadata": {},
   "outputs": [],
   "source": [
    "import pandas as pd\n",
    "import numpy as np\n",
    "import os, sys"
   ]
  },
  {
   "cell_type": "markdown",
   "metadata": {},
   "source": [
    "## Columns, Filenames, and Directories\n",
    "Some variables which describe the column names/types, filenames and input/output directories "
   ]
  },
  {
   "cell_type": "code",
   "execution_count": 2,
   "metadata": {},
   "outputs": [],
   "source": [
    "# column names for datafiles\n",
    "headers=['id', 'pricing', 'datetime',\n",
    "         'KwH/hh', 'acorn', 'acorn-grouped']\n",
    "\n",
    "# column types for datafile\n",
    "dtypes={'KwH/hh': 'float'}\n",
    "\n",
    "\n",
    "# format-string for datafile path\n",
    "pathfmt=os.path.join('.', '{dir}','{year}-{month:02}-power-survey-london.csv{suffix}')\n",
    "\n",
    "# directories\n",
    "input_dir=os.path.join('..', 'raw')\n",
    "output_dir=os.path.join('..', 'data')\n"
   ]
  },
  {
   "cell_type": "markdown",
   "metadata": {},
   "source": [
    "These next variables select the year and month we are going to load and clean; since these files are ~500MB uncompressed, we only load them one at a time. *(The script which does all of this for every relavent year and month is located in the \"scripts\" directory of the repository.)*"
   ]
  },
  {
   "cell_type": "code",
   "execution_count": 3,
   "metadata": {},
   "outputs": [],
   "source": [
    "# year to load\n",
    "year = 2012\n",
    "# month (1 to 12) of the year to load \n",
    "month = 7"
   ]
  },
  {
   "cell_type": "markdown",
   "metadata": {},
   "source": [
    "## Create Output Directory (if it doesn't exist)"
   ]
  },
  {
   "cell_type": "code",
   "execution_count": 4,
   "metadata": {},
   "outputs": [],
   "source": [
    "try: # try to make output directory\n",
    "    os.mkdir(output_dir)\n",
    "except FileExistsError: # if it exists, do nothing.\n",
    "    pass"
   ]
  },
  {
   "cell_type": "markdown",
   "metadata": {},
   "source": [
    "## Generate Input/Output Filenames\n"
   ]
  },
  {
   "cell_type": "code",
   "execution_count": 5,
   "metadata": {},
   "outputs": [
    {
     "name": "stdout",
     "output_type": "stream",
     "text": [
      "Processing file .\\..\\raw\\2012-07-power-survey-london.csv.bz2\n"
     ]
    }
   ],
   "source": [
    "output_path = pathfmt.format( year=year, month=month, dir=output_dir, suffix='' )\n",
    "input_path = pathfmt.format( year=year, month=month, dir=input_dir, suffix='.bz2')\n",
    "\n",
    "print(f\"Processing file {input_path}\")"
   ]
  },
  {
   "cell_type": "markdown",
   "metadata": {},
   "source": [
    "## Load Raw Data"
   ]
  },
  {
   "cell_type": "code",
   "execution_count": 6,
   "metadata": {},
   "outputs": [],
   "source": [
    "data = pd.read_csv( input_path,    # file to load \n",
    "                    header=None,   # month/year files do not have a header \n",
    "                    names=headers )# names to use for the columns "
   ]
  },
  {
   "cell_type": "markdown",
   "metadata": {},
   "source": [
    "### Extract Non-Nil Records \n",
    "Only look at records with valid power usage reading; entries without valid readings have 'Null' where the power usage should be. In addition, make sure cleaned 'KwH/hh' column consists of floats."
   ]
  },
  {
   "cell_type": "code",
   "execution_count": 7,
   "metadata": {},
   "outputs": [
    {
     "name": "stderr",
     "output_type": "stream",
     "text": [
      "C:\\Users\\burned\\anaconda3\\lib\\site-packages\\pandas\\core\\ops.py:1649: FutureWarning: elementwise comparison failed; returning scalar instead, but in the future will perform elementwise comparison\n",
      "  result = method(y)\n"
     ]
    }
   ],
   "source": [
    "tmp = data.copy()\n",
    "tmp = tmp.loc[ tmp['KwH/hh'] != 'Null' ]\n",
    "data = tmp.astype( dtypes ).copy()\n",
    "del tmp # free up some resources"
   ]
  },
  {
   "cell_type": "markdown",
   "metadata": {},
   "source": [
    "### Fix Datetime And ACORN Column"
   ]
  },
  {
   "cell_type": "code",
   "execution_count": 8,
   "metadata": {},
   "outputs": [],
   "source": [
    "# Note: this next bit only works because the time format is close to 'normal'\n",
    "data['datetime'] = pd.to_datetime( data['datetime'] )\n",
    "\n",
    "# Remove \"ACORN-\" from each entry in the 'acorn' column; keeping only the group letter\n",
    "data['acorn'] = data['acorn'].apply( lambda x : x[-1] )\n",
    "\n",
    "# take care of possible double counting\n",
    "data = data.groupby(['id', 'datetime', 'acorn', 'acorn-grouped']).mean().reset_index()"
   ]
  },
  {
   "cell_type": "markdown",
   "metadata": {},
   "source": [
    "### Compute Values For Each ACORN Groups"
   ]
  },
  {
   "cell_type": "code",
   "execution_count": 9,
   "metadata": {},
   "outputs": [],
   "source": [
    "# group data by datetime and acorn type\n",
    "grouped = data.groupby(['datetime', 'acorn'])\n",
    "\n",
    "# compute/combine values for each datetime and  acorn type \n",
    "sums = grouped.sum() # combine the power usage\n",
    "stds = grouped.std() # compute sample standard deviation\n",
    "counts = grouped.count() # count number of records for each datetime and acorn type\n",
    "\n",
    "# merge all three values into one table\n",
    "merged = pd.merge(counts['id'], sums, \n",
    "                  left_index=True, right_index=True)\n",
    "merged = pd.merge(merged, stds, \n",
    "                  left_index=True, right_index=True)\n",
    "merged = merged.reset_index()"
   ]
  },
  {
   "cell_type": "markdown",
   "metadata": {},
   "source": [
    "### Mung Merged Data\n",
    "Create columns which correspond to the ACORN type associated with the values we computed then merge results."
   ]
  },
  {
   "cell_type": "code",
   "execution_count": 10,
   "metadata": {},
   "outputs": [],
   "source": [
    "# group by datetime\n",
    "grouped = merged.groupby('datetime')\n",
    "\n",
    "# extract and mung computed values\n",
    "counts_atyp = grouped.apply( lambda x : \\\n",
    "                          x.set_index('acorn').transpose().iloc[1])\n",
    "sums_atyp = grouped.apply( lambda x : \\\n",
    "                         x.set_index('acorn').transpose().iloc[2])\n",
    "stds_atyp = grouped.apply(lambda x : \\\n",
    "                         x.set_index('acorn').transpose().iloc[3])\n",
    "\n",
    "# fixup columns names\n",
    "counts_atyp = counts_atyp.rename(\n",
    "    index=str,\n",
    "    columns=dict([(name, name+'_count') for name in counts_atyp.columns]))\n",
    "sums_atyp = sums_atyp.rename(\n",
    "    index=str,\n",
    "    columns=dict([(name, name+'_sigma') for name in sums_atyp.columns]))\n",
    "stds_atyp = stds_atyp.rename(\n",
    "    index=str,\n",
    "    columns=dict([(name, name+'_std') for name in stds_atyp.columns]))\n",
    "\n",
    "# merge everything into one dataframe\n",
    "combined = pd.merge(sums_atyp,  stds_atyp,\n",
    "                   left_index=True, right_index=True)\n",
    "combined = pd.merge(combined, counts_atyp,\n",
    "                   left_index=True, right_index=True)"
   ]
  },
  {
   "cell_type": "markdown",
   "metadata": {},
   "source": [
    "### Add Summary Columns"
   ]
  },
  {
   "cell_type": "code",
   "execution_count": 11,
   "metadata": {},
   "outputs": [],
   "source": [
    "count_total = counts_atyp.sum(axis=1)\n",
    "sigma_total = sums_atyp.sum(axis=1)\n",
    "means = sigma_total / count_total\n",
    "\n",
    "combined['sigma'] = sigma_total\n",
    "combined['count'] = count_total\n",
    "combined['mean'] = means"
   ]
  },
  {
   "cell_type": "markdown",
   "metadata": {},
   "source": [
    "### Preview Combined Data"
   ]
  },
  {
   "cell_type": "code",
   "execution_count": 12,
   "metadata": {},
   "outputs": [
    {
     "data": {
      "text/html": [
       "<div>\n",
       "<style scoped>\n",
       "    .dataframe tbody tr th:only-of-type {\n",
       "        vertical-align: middle;\n",
       "    }\n",
       "\n",
       "    .dataframe tbody tr th {\n",
       "        vertical-align: top;\n",
       "    }\n",
       "\n",
       "    .dataframe thead th {\n",
       "        text-align: right;\n",
       "    }\n",
       "</style>\n",
       "<table border=\"1\" class=\"dataframe\">\n",
       "  <thead>\n",
       "    <tr style=\"text-align: right;\">\n",
       "      <th>acorn</th>\n",
       "      <th>A_sigma</th>\n",
       "      <th>B_sigma</th>\n",
       "      <th>C_sigma</th>\n",
       "      <th>D_sigma</th>\n",
       "      <th>E_sigma</th>\n",
       "      <th>F_sigma</th>\n",
       "      <th>G_sigma</th>\n",
       "      <th>H_sigma</th>\n",
       "      <th>I_sigma</th>\n",
       "      <th>J_sigma</th>\n",
       "      <th>...</th>\n",
       "      <th>L_count</th>\n",
       "      <th>M_count</th>\n",
       "      <th>N_count</th>\n",
       "      <th>O_count</th>\n",
       "      <th>P_count</th>\n",
       "      <th>Q_count</th>\n",
       "      <th>U_count</th>\n",
       "      <th>sigma</th>\n",
       "      <th>count</th>\n",
       "      <th>mean</th>\n",
       "    </tr>\n",
       "    <tr>\n",
       "      <th>datetime</th>\n",
       "      <th></th>\n",
       "      <th></th>\n",
       "      <th></th>\n",
       "      <th></th>\n",
       "      <th></th>\n",
       "      <th></th>\n",
       "      <th></th>\n",
       "      <th></th>\n",
       "      <th></th>\n",
       "      <th></th>\n",
       "      <th></th>\n",
       "      <th></th>\n",
       "      <th></th>\n",
       "      <th></th>\n",
       "      <th></th>\n",
       "      <th></th>\n",
       "      <th></th>\n",
       "      <th></th>\n",
       "      <th></th>\n",
       "      <th></th>\n",
       "      <th></th>\n",
       "    </tr>\n",
       "  </thead>\n",
       "  <tbody>\n",
       "    <tr>\n",
       "      <th>2012-07-13 13:00:00</th>\n",
       "      <td>25.469</td>\n",
       "      <td>1.374</td>\n",
       "      <td>13.525</td>\n",
       "      <td>47.658</td>\n",
       "      <td>197.987</td>\n",
       "      <td>82.999</td>\n",
       "      <td>18.744</td>\n",
       "      <td>42.167</td>\n",
       "      <td>3.923</td>\n",
       "      <td>7.176</td>\n",
       "      <td>...</td>\n",
       "      <td>167</td>\n",
       "      <td>62</td>\n",
       "      <td>88</td>\n",
       "      <td>60</td>\n",
       "      <td>83</td>\n",
       "      <td>673</td>\n",
       "      <td>29</td>\n",
       "      <td>632.894</td>\n",
       "      <td>3762</td>\n",
       "      <td>0.168233</td>\n",
       "    </tr>\n",
       "    <tr>\n",
       "      <th>2012-07-20 03:30:00</th>\n",
       "      <td>16.039</td>\n",
       "      <td>1.256</td>\n",
       "      <td>7.739</td>\n",
       "      <td>25.404</td>\n",
       "      <td>114.935</td>\n",
       "      <td>43.999</td>\n",
       "      <td>10.508</td>\n",
       "      <td>26.310</td>\n",
       "      <td>1.740</td>\n",
       "      <td>4.060</td>\n",
       "      <td>...</td>\n",
       "      <td>167</td>\n",
       "      <td>64</td>\n",
       "      <td>88</td>\n",
       "      <td>61</td>\n",
       "      <td>83</td>\n",
       "      <td>674</td>\n",
       "      <td>29</td>\n",
       "      <td>361.774</td>\n",
       "      <td>3783</td>\n",
       "      <td>0.095632</td>\n",
       "    </tr>\n",
       "    <tr>\n",
       "      <th>2012-07-29 14:30:00</th>\n",
       "      <td>32.028</td>\n",
       "      <td>1.241</td>\n",
       "      <td>15.639</td>\n",
       "      <td>54.332</td>\n",
       "      <td>224.917</td>\n",
       "      <td>104.584</td>\n",
       "      <td>23.204</td>\n",
       "      <td>58.786</td>\n",
       "      <td>5.082</td>\n",
       "      <td>11.292</td>\n",
       "      <td>...</td>\n",
       "      <td>167</td>\n",
       "      <td>64</td>\n",
       "      <td>88</td>\n",
       "      <td>61</td>\n",
       "      <td>83</td>\n",
       "      <td>674</td>\n",
       "      <td>29</td>\n",
       "      <td>771.782</td>\n",
       "      <td>3784</td>\n",
       "      <td>0.203959</td>\n",
       "    </tr>\n",
       "    <tr>\n",
       "      <th>2012-07-23 03:30:00</th>\n",
       "      <td>16.514</td>\n",
       "      <td>0.946</td>\n",
       "      <td>7.421</td>\n",
       "      <td>25.486</td>\n",
       "      <td>116.114</td>\n",
       "      <td>45.193</td>\n",
       "      <td>11.460</td>\n",
       "      <td>25.170</td>\n",
       "      <td>1.715</td>\n",
       "      <td>4.887</td>\n",
       "      <td>...</td>\n",
       "      <td>167</td>\n",
       "      <td>63</td>\n",
       "      <td>88</td>\n",
       "      <td>61</td>\n",
       "      <td>83</td>\n",
       "      <td>673</td>\n",
       "      <td>29</td>\n",
       "      <td>367.011</td>\n",
       "      <td>3781</td>\n",
       "      <td>0.097067</td>\n",
       "    </tr>\n",
       "    <tr>\n",
       "      <th>2012-07-07 20:00:00</th>\n",
       "      <td>34.376</td>\n",
       "      <td>2.386</td>\n",
       "      <td>18.063</td>\n",
       "      <td>77.290</td>\n",
       "      <td>255.756</td>\n",
       "      <td>111.127</td>\n",
       "      <td>23.399</td>\n",
       "      <td>51.635</td>\n",
       "      <td>6.412</td>\n",
       "      <td>11.360</td>\n",
       "      <td>...</td>\n",
       "      <td>164</td>\n",
       "      <td>62</td>\n",
       "      <td>86</td>\n",
       "      <td>58</td>\n",
       "      <td>81</td>\n",
       "      <td>638</td>\n",
       "      <td>26</td>\n",
       "      <td>839.209</td>\n",
       "      <td>3579</td>\n",
       "      <td>0.234481</td>\n",
       "    </tr>\n",
       "  </tbody>\n",
       "</table>\n",
       "<p>5 rows × 57 columns</p>\n",
       "</div>"
      ],
      "text/plain": [
       "acorn                A_sigma  B_sigma  C_sigma  D_sigma  E_sigma  F_sigma  \\\n",
       "datetime                                                                    \n",
       "2012-07-13 13:00:00   25.469    1.374   13.525   47.658  197.987   82.999   \n",
       "2012-07-20 03:30:00   16.039    1.256    7.739   25.404  114.935   43.999   \n",
       "2012-07-29 14:30:00   32.028    1.241   15.639   54.332  224.917  104.584   \n",
       "2012-07-23 03:30:00   16.514    0.946    7.421   25.486  116.114   45.193   \n",
       "2012-07-07 20:00:00   34.376    2.386   18.063   77.290  255.756  111.127   \n",
       "\n",
       "acorn                G_sigma  H_sigma  I_sigma  J_sigma  ...  L_count  \\\n",
       "datetime                                                 ...            \n",
       "2012-07-13 13:00:00   18.744   42.167    3.923    7.176  ...      167   \n",
       "2012-07-20 03:30:00   10.508   26.310    1.740    4.060  ...      167   \n",
       "2012-07-29 14:30:00   23.204   58.786    5.082   11.292  ...      167   \n",
       "2012-07-23 03:30:00   11.460   25.170    1.715    4.887  ...      167   \n",
       "2012-07-07 20:00:00   23.399   51.635    6.412   11.360  ...      164   \n",
       "\n",
       "acorn                M_count  N_count  O_count  P_count  Q_count  U_count  \\\n",
       "datetime                                                                    \n",
       "2012-07-13 13:00:00       62       88       60       83      673       29   \n",
       "2012-07-20 03:30:00       64       88       61       83      674       29   \n",
       "2012-07-29 14:30:00       64       88       61       83      674       29   \n",
       "2012-07-23 03:30:00       63       88       61       83      673       29   \n",
       "2012-07-07 20:00:00       62       86       58       81      638       26   \n",
       "\n",
       "acorn                  sigma  count      mean  \n",
       "datetime                                       \n",
       "2012-07-13 13:00:00  632.894   3762  0.168233  \n",
       "2012-07-20 03:30:00  361.774   3783  0.095632  \n",
       "2012-07-29 14:30:00  771.782   3784  0.203959  \n",
       "2012-07-23 03:30:00  367.011   3781  0.097067  \n",
       "2012-07-07 20:00:00  839.209   3579  0.234481  \n",
       "\n",
       "[5 rows x 57 columns]"
      ]
     },
     "execution_count": 12,
     "metadata": {},
     "output_type": "execute_result"
    }
   ],
   "source": [
    "# preview a sample from the combined data\n",
    "combined.sample(5)"
   ]
  },
  {
   "cell_type": "markdown",
   "metadata": {},
   "source": [
    "## Save Combined Data"
   ]
  },
  {
   "cell_type": "code",
   "execution_count": 13,
   "metadata": {},
   "outputs": [
    {
     "name": "stdout",
     "output_type": "stream",
     "text": [
      "Outputing to file .\\..\\data\\2012-07-power-survey-london.csv\n"
     ]
    }
   ],
   "source": [
    "print(f\"Outputing to file {output_path}\")\n",
    "\n",
    "combined.to_csv(output_path)\n"
   ]
  },
  {
   "cell_type": "code",
   "execution_count": null,
   "metadata": {},
   "outputs": [],
   "source": []
  }
 ],
 "metadata": {
  "kernelspec": {
   "display_name": "Python 3",
   "language": "python",
   "name": "python3"
  },
  "language_info": {
   "codemirror_mode": {
    "name": "ipython",
    "version": 3
   },
   "file_extension": ".py",
   "mimetype": "text/x-python",
   "name": "python",
   "nbconvert_exporter": "python",
   "pygments_lexer": "ipython3",
   "version": "3.7.3"
  }
 },
 "nbformat": 4,
 "nbformat_minor": 2
}
