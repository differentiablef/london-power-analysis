{
 "cells": [
  {
   "cell_type": "markdown",
   "metadata": {},
   "source": [
    "# Cleaning The Raw Data"
   ]
  },
  {
   "cell_type": "markdown",
   "metadata": {},
   "source": [
    "## Import Depnedencies"
   ]
  },
  {
   "cell_type": "code",
   "execution_count": 1,
   "metadata": {},
   "outputs": [],
   "source": [
    "import pandas as pd\n",
    "import numpy as np\n",
    "import os, sys"
   ]
  },
  {
   "cell_type": "markdown",
   "metadata": {},
   "source": [
    "## Columns, Filenames, and Directories\n",
    "Some variables which describe the column names/types, filenames and input/output directories "
   ]
  },
  {
   "cell_type": "code",
   "execution_count": 2,
   "metadata": {},
   "outputs": [],
   "source": [
    "# column names for datafiles\n",
    "headers=['id', 'pricing', 'datetime',\n",
    "         'KwH/hh', 'acorn', 'acorn-grouped']\n",
    "\n",
    "# column types for datafile\n",
    "dtypes={'KwH/hh': 'float'}\n",
    "\n",
    "\n",
    "# format-string for datafile path\n",
    "pathfmt=os.path.join('.', '{dir}','{year}-{month:02}-power-survey-london.csv{suffix}')\n",
    "\n",
    "# directories\n",
    "input_dir=os.path.join('..', 'raw')\n",
    "output_dir=os.path.join('..', 'data')\n"
   ]
  },
  {
   "cell_type": "markdown",
   "metadata": {},
   "source": [
    "These next variables select the year and month we are going to load and clean; since these files are ~500MB uncompressed, we only load them one at a time. *(The script which does all of this for every relavent year and month is located in the \"scripts\" directory of the repository.)*"
   ]
  },
  {
   "cell_type": "code",
   "execution_count": 21,
   "metadata": {},
   "outputs": [],
   "source": [
    "# year to load\n",
    "year = 2012\n",
    "# month (1 to 12) of the year to load \n",
    "month = 7"
   ]
  },
  {
   "cell_type": "markdown",
   "metadata": {},
   "source": [
    "## Create Output Directory (if it doesn't exist)"
   ]
  },
  {
   "cell_type": "code",
   "execution_count": 4,
   "metadata": {},
   "outputs": [],
   "source": [
    "try: # try to make output directory\n",
    "    os.mkdir(output_dir)\n",
    "except FileExistsError: # if it exists, do nothing.\n",
    "    pass"
   ]
  },
  {
   "cell_type": "markdown",
   "metadata": {},
   "source": [
    "## Generate Input/Output Filenames\n"
   ]
  },
  {
   "cell_type": "code",
   "execution_count": 5,
   "metadata": {},
   "outputs": [
    {
     "name": "stdout",
     "output_type": "stream",
     "text": [
      "Processing file .\\..\\raw\\2012-07-power-survey-london.csv.bz2\n"
     ]
    }
   ],
   "source": [
    "output_path = pathfmt.format( year=year, month=month, dir=output_dir, suffix='' )\n",
    "input_path = pathfmt.format( year=year, month=month, dir=input_dir, suffix='.bz2')\n",
    "\n",
    "print(f\"Processing file {input_path}\")"
   ]
  },
  {
   "cell_type": "markdown",
   "metadata": {},
   "source": [
    "## Process Raw Data"
   ]
  },
  {
   "cell_type": "markdown",
   "metadata": {},
   "source": [
    "### Load Data"
   ]
  },
  {
   "cell_type": "code",
   "execution_count": 6,
   "metadata": {},
   "outputs": [],
   "source": [
    "data = pd.read_csv( input_path,    # file to load \n",
    "                    header=None,   # month/year files do not have a header \n",
    "                    names=headers )# names to use for the columns "
   ]
  },
  {
   "cell_type": "markdown",
   "metadata": {},
   "source": [
    "### Extract Non-Nil Records \n",
    "Only look at records with valid power usage reading; entries without valid readings have 'Null' where the power usage should be. In addition, make sure cleaned 'KwH/hh' column consists of floats."
   ]
  },
  {
   "cell_type": "code",
   "execution_count": 7,
   "metadata": {},
   "outputs": [
    {
     "name": "stderr",
     "output_type": "stream",
     "text": [
      "C:\\Users\\burned\\anaconda3\\lib\\site-packages\\pandas\\core\\ops.py:1649: FutureWarning: elementwise comparison failed; returning scalar instead, but in the future will perform elementwise comparison\n",
      "  result = method(y)\n"
     ]
    }
   ],
   "source": [
    "tmp = data.copy()\n",
    "tmp = tmp.loc[ tmp['KwH/hh'] != 'Null' ]\n",
    "data = tmp.astype( dtypes ).copy()\n",
    "del tmp # free up some resources"
   ]
  },
  {
   "cell_type": "markdown",
   "metadata": {},
   "source": [
    "### Fix Datetime And ACORN Column"
   ]
  },
  {
   "cell_type": "code",
   "execution_count": 22,
   "metadata": {},
   "outputs": [],
   "source": [
    "# Note: this next bit only works because the time format is close to 'normal'\n",
    "data['datetime'] = pd.to_datetime( data['datetime'] )\n",
    "\n",
    "# Remove \"ACORN-\" from each entry in the 'acorn' column; keeping only the group letter\n",
    "data['acorn'] = data['acorn'].apply( lambda x : x[-1] )\n",
    "\n",
    "# take care of possible double counting\n",
    "data = data.groupby(['id', 'datetime', 'acorn', 'acorn-grouped']).mean().reset_index()"
   ]
  },
  {
   "cell_type": "markdown",
   "metadata": {},
   "source": [
    "### Compute Values For Each ACORN Groups"
   ]
  },
  {
   "cell_type": "code",
   "execution_count": 9,
   "metadata": {},
   "outputs": [],
   "source": [
    "# group data by datetime and acorn type\n",
    "grouped = data.groupby(['datetime', 'acorn'])\n",
    "\n",
    "# compute/combine values for each datetime and  acorn type \n",
    "sums = grouped.sum() # combine the power usage\n",
    "stds = grouped.std() # compute sample standard deviation\n",
    "counts = grouped.count() # count number of records for each datetime and acorn type\n",
    "\n",
    "# merge all three values into one table\n",
    "merged = pd.merge(counts['id'], sums, \n",
    "                  left_index=True, right_index=True)\n",
    "merged = pd.merge(merged, stds, \n",
    "                  left_index=True, right_index=True)\n",
    "merged = merged.reset_index()"
   ]
  },
  {
   "cell_type": "markdown",
   "metadata": {},
   "source": [
    "### Mung Merged Data\n",
    "Create columns which correspond to the ACORN type associated with the values we computed then merge results."
   ]
  },
  {
   "cell_type": "code",
   "execution_count": 10,
   "metadata": {},
   "outputs": [],
   "source": [
    "# group by datetime\n",
    "grouped = merged.groupby('datetime')\n",
    "\n",
    "# extract and mung computed values\n",
    "counts_atyp = grouped.apply( lambda x : \\\n",
    "                          x.set_index('acorn').transpose().iloc[1])\n",
    "sums_atyp = grouped.apply( lambda x : \\\n",
    "                         x.set_index('acorn').transpose().iloc[2])\n",
    "stds_atyp = grouped.apply(lambda x : \\\n",
    "                         x.set_index('acorn').transpose().iloc[3])\n",
    "\n",
    "# fixup columns names\n",
    "counts_atyp = counts_atyp.rename(\n",
    "    index=str,\n",
    "    columns=dict([(name, name+'_count') for name in counts_atyp.columns]))\n",
    "sums_atyp = sums_atyp.rename(\n",
    "    index=str,\n",
    "    columns=dict([(name, name+'_sigma') for name in sums_atyp.columns]))\n",
    "stds_atyp = stds_atyp.rename(\n",
    "    index=str,\n",
    "    columns=dict([(name, name+'_std') for name in stds_atyp.columns]))\n",
    "\n",
    "# merge everything into one dataframe\n",
    "combined = pd.merge(sums_atyp,  stds_atyp,\n",
    "                   left_index=True, right_index=True)\n",
    "combined = pd.merge(combined, counts_atyp,\n",
    "                   left_index=True, right_index=True)"
   ]
  },
  {
   "cell_type": "markdown",
   "metadata": {},
   "source": [
    "### Add Summary Columns"
   ]
  },
  {
   "cell_type": "code",
   "execution_count": 18,
   "metadata": {},
   "outputs": [],
   "source": [
    "count_total = counts_atyp.sum(axis=1)\n",
    "sigma_total = sums_atyp.sum(axis=1)\n",
    "means = sigma_total / count_total\n",
    "\n",
    "combined['sigma'] = sigma_total\n",
    "combined['count'] = count_total\n",
    "combined['std'] = data.groupby('datetime').std()\n",
    "combined['mean'] = means"
   ]
  },
  {
   "cell_type": "markdown",
   "metadata": {},
   "source": [
    "### Preview Combined Data"
   ]
  },
  {
   "cell_type": "code",
   "execution_count": 24,
   "metadata": {},
   "outputs": [
    {
     "data": {
      "text/html": [
       "<div>\n",
       "<style scoped>\n",
       "    .dataframe tbody tr th:only-of-type {\n",
       "        vertical-align: middle;\n",
       "    }\n",
       "\n",
       "    .dataframe tbody tr th {\n",
       "        vertical-align: top;\n",
       "    }\n",
       "\n",
       "    .dataframe thead th {\n",
       "        text-align: right;\n",
       "    }\n",
       "</style>\n",
       "<table border=\"1\" class=\"dataframe\">\n",
       "  <thead>\n",
       "    <tr style=\"text-align: right;\">\n",
       "      <th>acorn</th>\n",
       "      <th>A_sigma</th>\n",
       "      <th>B_sigma</th>\n",
       "      <th>C_sigma</th>\n",
       "      <th>D_sigma</th>\n",
       "      <th>E_sigma</th>\n",
       "      <th>F_sigma</th>\n",
       "      <th>G_sigma</th>\n",
       "      <th>H_sigma</th>\n",
       "      <th>I_sigma</th>\n",
       "      <th>J_sigma</th>\n",
       "      <th>...</th>\n",
       "      <th>N_count</th>\n",
       "      <th>O_count</th>\n",
       "      <th>P_count</th>\n",
       "      <th>Q_count</th>\n",
       "      <th>U_count</th>\n",
       "      <th>sigma</th>\n",
       "      <th>count</th>\n",
       "      <th>mean</th>\n",
       "      <th>stds</th>\n",
       "      <th>std</th>\n",
       "    </tr>\n",
       "    <tr>\n",
       "      <th>datetime</th>\n",
       "      <th></th>\n",
       "      <th></th>\n",
       "      <th></th>\n",
       "      <th></th>\n",
       "      <th></th>\n",
       "      <th></th>\n",
       "      <th></th>\n",
       "      <th></th>\n",
       "      <th></th>\n",
       "      <th></th>\n",
       "      <th></th>\n",
       "      <th></th>\n",
       "      <th></th>\n",
       "      <th></th>\n",
       "      <th></th>\n",
       "      <th></th>\n",
       "      <th></th>\n",
       "      <th></th>\n",
       "      <th></th>\n",
       "      <th></th>\n",
       "      <th></th>\n",
       "    </tr>\n",
       "  </thead>\n",
       "  <tbody>\n",
       "    <tr>\n",
       "      <th>2012-07-30 17:00:00</th>\n",
       "      <td>27.453</td>\n",
       "      <td>1.606</td>\n",
       "      <td>18.920</td>\n",
       "      <td>53.237</td>\n",
       "      <td>228.272</td>\n",
       "      <td>98.319</td>\n",
       "      <td>22.039</td>\n",
       "      <td>57.057</td>\n",
       "      <td>6.001</td>\n",
       "      <td>10.186</td>\n",
       "      <td>...</td>\n",
       "      <td>88</td>\n",
       "      <td>60</td>\n",
       "      <td>83</td>\n",
       "      <td>673</td>\n",
       "      <td>30</td>\n",
       "      <td>783.613000</td>\n",
       "      <td>3785</td>\n",
       "      <td>0.207031</td>\n",
       "      <td>0.246903</td>\n",
       "      <td>0.246903</td>\n",
       "    </tr>\n",
       "    <tr>\n",
       "      <th>2012-07-15 15:00:00</th>\n",
       "      <td>30.094</td>\n",
       "      <td>1.496</td>\n",
       "      <td>17.052</td>\n",
       "      <td>48.608</td>\n",
       "      <td>214.593</td>\n",
       "      <td>97.330</td>\n",
       "      <td>24.182</td>\n",
       "      <td>52.667</td>\n",
       "      <td>4.775</td>\n",
       "      <td>11.244</td>\n",
       "      <td>...</td>\n",
       "      <td>88</td>\n",
       "      <td>61</td>\n",
       "      <td>83</td>\n",
       "      <td>674</td>\n",
       "      <td>29</td>\n",
       "      <td>750.234000</td>\n",
       "      <td>3780</td>\n",
       "      <td>0.198475</td>\n",
       "      <td>0.251496</td>\n",
       "      <td>0.251496</td>\n",
       "    </tr>\n",
       "    <tr>\n",
       "      <th>2012-07-06 20:00:00</th>\n",
       "      <td>28.684</td>\n",
       "      <td>2.954</td>\n",
       "      <td>14.909</td>\n",
       "      <td>64.149</td>\n",
       "      <td>256.624</td>\n",
       "      <td>108.657</td>\n",
       "      <td>19.350</td>\n",
       "      <td>50.100</td>\n",
       "      <td>4.268</td>\n",
       "      <td>9.431</td>\n",
       "      <td>...</td>\n",
       "      <td>85</td>\n",
       "      <td>58</td>\n",
       "      <td>80</td>\n",
       "      <td>632</td>\n",
       "      <td>25</td>\n",
       "      <td>797.130000</td>\n",
       "      <td>3545</td>\n",
       "      <td>0.224860</td>\n",
       "      <td>0.240237</td>\n",
       "      <td>0.240237</td>\n",
       "    </tr>\n",
       "    <tr>\n",
       "      <th>2012-07-28 11:00:00</th>\n",
       "      <td>29.773</td>\n",
       "      <td>2.661</td>\n",
       "      <td>20.143</td>\n",
       "      <td>52.755</td>\n",
       "      <td>215.818</td>\n",
       "      <td>95.091</td>\n",
       "      <td>17.067</td>\n",
       "      <td>50.513</td>\n",
       "      <td>4.729</td>\n",
       "      <td>9.894</td>\n",
       "      <td>...</td>\n",
       "      <td>88</td>\n",
       "      <td>60</td>\n",
       "      <td>83</td>\n",
       "      <td>675</td>\n",
       "      <td>29</td>\n",
       "      <td>721.147999</td>\n",
       "      <td>3784</td>\n",
       "      <td>0.190578</td>\n",
       "      <td>0.234173</td>\n",
       "      <td>0.234173</td>\n",
       "    </tr>\n",
       "    <tr>\n",
       "      <th>2012-07-20 22:30:00</th>\n",
       "      <td>33.124</td>\n",
       "      <td>1.901</td>\n",
       "      <td>18.425</td>\n",
       "      <td>58.430</td>\n",
       "      <td>226.653</td>\n",
       "      <td>98.958</td>\n",
       "      <td>19.725</td>\n",
       "      <td>54.116</td>\n",
       "      <td>3.932</td>\n",
       "      <td>8.807</td>\n",
       "      <td>...</td>\n",
       "      <td>88</td>\n",
       "      <td>61</td>\n",
       "      <td>83</td>\n",
       "      <td>674</td>\n",
       "      <td>29</td>\n",
       "      <td>737.464000</td>\n",
       "      <td>3784</td>\n",
       "      <td>0.194890</td>\n",
       "      <td>0.221640</td>\n",
       "      <td>0.221640</td>\n",
       "    </tr>\n",
       "  </tbody>\n",
       "</table>\n",
       "<p>5 rows × 59 columns</p>\n",
       "</div>"
      ],
      "text/plain": [
       "acorn                A_sigma  B_sigma  C_sigma  D_sigma  E_sigma  F_sigma  \\\n",
       "datetime                                                                    \n",
       "2012-07-30 17:00:00   27.453    1.606   18.920   53.237  228.272   98.319   \n",
       "2012-07-15 15:00:00   30.094    1.496   17.052   48.608  214.593   97.330   \n",
       "2012-07-06 20:00:00   28.684    2.954   14.909   64.149  256.624  108.657   \n",
       "2012-07-28 11:00:00   29.773    2.661   20.143   52.755  215.818   95.091   \n",
       "2012-07-20 22:30:00   33.124    1.901   18.425   58.430  226.653   98.958   \n",
       "\n",
       "acorn                G_sigma  H_sigma  I_sigma  J_sigma  ...  N_count  \\\n",
       "datetime                                                 ...            \n",
       "2012-07-30 17:00:00   22.039   57.057    6.001   10.186  ...       88   \n",
       "2012-07-15 15:00:00   24.182   52.667    4.775   11.244  ...       88   \n",
       "2012-07-06 20:00:00   19.350   50.100    4.268    9.431  ...       85   \n",
       "2012-07-28 11:00:00   17.067   50.513    4.729    9.894  ...       88   \n",
       "2012-07-20 22:30:00   19.725   54.116    3.932    8.807  ...       88   \n",
       "\n",
       "acorn                O_count  P_count  Q_count  U_count       sigma  count  \\\n",
       "datetime                                                                     \n",
       "2012-07-30 17:00:00       60       83      673       30  783.613000   3785   \n",
       "2012-07-15 15:00:00       61       83      674       29  750.234000   3780   \n",
       "2012-07-06 20:00:00       58       80      632       25  797.130000   3545   \n",
       "2012-07-28 11:00:00       60       83      675       29  721.147999   3784   \n",
       "2012-07-20 22:30:00       61       83      674       29  737.464000   3784   \n",
       "\n",
       "acorn                    mean      stds       std  \n",
       "datetime                                           \n",
       "2012-07-30 17:00:00  0.207031  0.246903  0.246903  \n",
       "2012-07-15 15:00:00  0.198475  0.251496  0.251496  \n",
       "2012-07-06 20:00:00  0.224860  0.240237  0.240237  \n",
       "2012-07-28 11:00:00  0.190578  0.234173  0.234173  \n",
       "2012-07-20 22:30:00  0.194890  0.221640  0.221640  \n",
       "\n",
       "[5 rows x 59 columns]"
      ]
     },
     "execution_count": 24,
     "metadata": {},
     "output_type": "execute_result"
    }
   ],
   "source": [
    "# preview a sample from the combined data\n",
    "combined.sample(5)"
   ]
  },
  {
   "cell_type": "markdown",
   "metadata": {},
   "source": [
    "## Save Combined Data"
   ]
  },
  {
   "cell_type": "code",
   "execution_count": 20,
   "metadata": {},
   "outputs": [
    {
     "name": "stdout",
     "output_type": "stream",
     "text": [
      "Outputing to file .\\..\\data\\2012-07-power-survey-london.csv\n"
     ]
    }
   ],
   "source": [
    "print(f\"Outputing to file {output_path}\")\n",
    "\n",
    "combined.to_csv(output_path)\n"
   ]
  },
  {
   "cell_type": "code",
   "execution_count": null,
   "metadata": {},
   "outputs": [],
   "source": []
  }
 ],
 "metadata": {
  "kernelspec": {
   "display_name": "Python 3",
   "language": "python",
   "name": "python3"
  },
  "language_info": {
   "codemirror_mode": {
    "name": "ipython",
    "version": 3
   },
   "file_extension": ".py",
   "mimetype": "text/x-python",
   "name": "python",
   "nbconvert_exporter": "python",
   "pygments_lexer": "ipython3",
   "version": "3.7.3"
  }
 },
 "nbformat": 4,
 "nbformat_minor": 2
}
