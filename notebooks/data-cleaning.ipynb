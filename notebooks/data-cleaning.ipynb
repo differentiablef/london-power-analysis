{
 "cells": [
  {
   "cell_type": "markdown",
   "metadata": {},
   "source": [
    "# Cleaning The Raw Data"
   ]
  },
  {
   "cell_type": "markdown",
   "metadata": {},
   "source": [
    "## Import Depnedencies"
   ]
  },
  {
   "cell_type": "code",
   "execution_count": 1,
   "metadata": {},
   "outputs": [],
   "source": [
    "import pandas as pd\n",
    "import numpy as np\n",
    "import os, sys"
   ]
  },
  {
   "cell_type": "markdown",
   "metadata": {},
   "source": [
    "## Columns, Filenames, and Directories\n",
    "Some variables which describe the column names/types, filenames and input/output directories "
   ]
  },
  {
   "cell_type": "code",
   "execution_count": 2,
   "metadata": {},
   "outputs": [],
   "source": [
    "# column names for datafiles\n",
    "headers=['id', 'pricing', 'datetime',\n",
    "         'KwH/hh', 'acorn', 'acorn-grouped']\n",
    "\n",
    "# column types for datafile\n",
    "dtypes={'KwH/hh': 'float'}\n",
    "\n",
    "\n",
    "# format-string for datafile path\n",
    "pathfmt=os.path.join('.', '{dir}','{year}-{month:02}-power-survey-london.csv{suffix}')\n",
    "\n",
    "# directories\n",
    "input_dir=os.path.join('..', 'raw')\n",
    "output_dir=os.path.join('..', 'data')\n"
   ]
  },
  {
   "cell_type": "markdown",
   "metadata": {},
   "source": [
    "These next variables select the year and month we are going to load and clean; since these files are ~500MB uncompressed, we only load them one at a time. *(The script which does all of this for every relavent year and month is located in the \"scripts\" directory of the repository.)*"
   ]
  },
  {
   "cell_type": "code",
   "execution_count": 3,
   "metadata": {},
   "outputs": [],
   "source": [
    "# year to load\n",
    "year = 2012\n",
    "# month (1 to 12) of the year to load \n",
    "month = 7"
   ]
  },
  {
   "cell_type": "markdown",
   "metadata": {},
   "source": [
    "## Create Output Directory (if it doesn't exist)"
   ]
  },
  {
   "cell_type": "code",
   "execution_count": 4,
   "metadata": {},
   "outputs": [],
   "source": [
    "try: # try to make output directory\n",
    "    os.mkdir(output_dir)\n",
    "except FileExistsError: # if it exists, do nothing.\n",
    "    pass"
   ]
  },
  {
   "cell_type": "markdown",
   "metadata": {},
   "source": [
    "## Generate Input/Output Filenames\n"
   ]
  },
  {
   "cell_type": "code",
   "execution_count": 5,
   "metadata": {},
   "outputs": [
    {
     "name": "stdout",
     "output_type": "stream",
     "text": [
      "Processing file .\\..\\raw\\2012-07-power-survey-london.csv.bz2\n"
     ]
    }
   ],
   "source": [
    "output_path = pathfmt.format( year=year, month=month, dir=output_dir, suffix='' )\n",
    "input_path = pathfmt.format( year=year, month=month, dir=input_dir, suffix='.bz2')\n",
    "\n",
    "print(f\"Processing file {input_path}\")"
   ]
  },
  {
   "cell_type": "markdown",
   "metadata": {},
   "source": [
    "## Load Raw Data"
   ]
  },
  {
   "cell_type": "code",
   "execution_count": 6,
   "metadata": {},
   "outputs": [],
   "source": [
    "data = pd.read_csv( input_path,    # file to load \n",
    "                    header=None,   # month/year files do not have a header \n",
    "                    names=headers )# names to use for the columns "
   ]
  },
  {
   "cell_type": "markdown",
   "metadata": {},
   "source": [
    "### Extract Non-Nil Records \n",
    "Only look at records with valid power usage reading; entries without valid readings have 'Null' where the power usage should be. In addition, make sure cleaned 'KwH/hh' column consists of floats."
   ]
  },
  {
   "cell_type": "code",
   "execution_count": 7,
   "metadata": {},
   "outputs": [
    {
     "name": "stderr",
     "output_type": "stream",
     "text": [
      "C:\\Users\\burned\\anaconda3\\lib\\site-packages\\pandas\\core\\ops.py:1649: FutureWarning: elementwise comparison failed; returning scalar instead, but in the future will perform elementwise comparison\n",
      "  result = method(y)\n"
     ]
    }
   ],
   "source": [
    "tmp = data.copy()\n",
    "tmp = tmp.loc[ tmp['KwH/hh'] != 'Null' ]\n",
    "data = tmp.astype( dtypes ).copy()\n",
    "del tmp # free up some resources"
   ]
  },
  {
   "cell_type": "markdown",
   "metadata": {},
   "source": [
    "### Fix Datetime And ACORN Column"
   ]
  },
  {
   "cell_type": "code",
   "execution_count": 8,
   "metadata": {},
   "outputs": [],
   "source": [
    "# Note: this next bit only works because the time format is close to 'normal'\n",
    "data['datetime'] = pd.to_datetime( data['datetime'] )\n",
    "\n",
    "# Remove \"ACORN-\" from each entry in the 'acorn' column; keeping only the group letter\n",
    "data['acorn'] = data['acorn'].apply( lambda x : x[-1] )\n",
    "\n",
    "# take care of possible double counting\n",
    "data = data.groupby(['id', 'datetime', 'acorn', 'acorn-grouped']).mean().reset_index()"
   ]
  },
  {
   "cell_type": "markdown",
   "metadata": {},
   "source": [
    "### Compute Values For Each ACORN Groups"
   ]
  },
  {
   "cell_type": "code",
   "execution_count": 9,
   "metadata": {},
   "outputs": [],
   "source": [
    "# group data by datetime and acorn type\n",
    "grouped = data.groupby(['datetime', 'acorn'])\n",
    "\n",
    "# compute/combine values for each datetime and  acorn type \n",
    "sums = grouped.sum() # combine the power usage\n",
    "stds = grouped.std() # compute sample standard deviation\n",
    "counts = grouped.count() # count number of records for each datetime and acorn type\n",
    "\n",
    "# merge all three values into one table\n",
    "merged = pd.merge(counts['id'], sums, \n",
    "                  left_index=True, right_index=True)\n",
    "merged = pd.merge(merged, stds, \n",
    "                  left_index=True, right_index=True)\n",
    "merged = merged.reset_index()"
   ]
  },
  {
   "cell_type": "markdown",
   "metadata": {},
   "source": [
    "### Mung Merged Data\n",
    "Create columns which correspond to the ACORN type associated with the values we computed then merge results."
   ]
  },
  {
   "cell_type": "code",
   "execution_count": 10,
   "metadata": {},
   "outputs": [],
   "source": [
    "# group by datetime\n",
    "grouped = merged.groupby('datetime')\n",
    "\n",
    "# extract and mung computed values\n",
    "counts_atyp = grouped.apply( lambda x : \\\n",
    "                          x.set_index('acorn').transpose().iloc[1])\n",
    "sums_atyp = grouped.apply( lambda x : \\\n",
    "                         x.set_index('acorn').transpose().iloc[2])\n",
    "stds_atyp = grouped.apply(lambda x : \\\n",
    "                         x.set_index('acorn').transpose().iloc[3])\n",
    "\n",
    "# fixup columns names\n",
    "counts_atyp = counts_atyp.rename(\n",
    "    index=str,\n",
    "    columns=dict([(name, name+'_count') for name in counts_atyp.columns]))\n",
    "sums_atyp = sums_atyp.rename(\n",
    "    index=str,\n",
    "    columns=dict([(name, name+'_sigma') for name in sums_atyp.columns]))\n",
    "stds_atyp = stds_atyp.rename(\n",
    "    index=str,\n",
    "    columns=dict([(name, name+'_std') for name in stds_atyp.columns]))\n",
    "\n",
    "# merge everything into one dataframe\n",
    "combined = pd.merge(sums_atyp,  stds_atyp,\n",
    "                   left_index=True, right_index=True)\n",
    "combined = pd.merge(combined, counts_atyp,\n",
    "                   left_index=True, right_index=True)"
   ]
  },
  {
   "cell_type": "markdown",
   "metadata": {},
   "source": [
    "### Add Summary Columns"
   ]
  },
  {
   "cell_type": "code",
   "execution_count": 18,
   "metadata": {},
   "outputs": [],
   "source": [
    "count_total = counts_atyp.sum(axis=1)\n",
    "sigma_total = sums_atyp.sum(axis=1)\n",
    "means = sigma_total / count_total\n",
    "\n",
    "combined['sigma'] = sigma_total\n",
    "combined['count'] = count_total\n",
    "combined['std'] = data.groupby('datetime').std()\n",
    "combined['mean'] = means"
   ]
  },
  {
   "cell_type": "markdown",
   "metadata": {},
   "source": [
    "### Preview Combined Data"
   ]
  },
  {
   "cell_type": "code",
   "execution_count": 19,
   "metadata": {},
   "outputs": [
    {
     "data": {
      "text/html": [
       "<div>\n",
       "<style scoped>\n",
       "    .dataframe tbody tr th:only-of-type {\n",
       "        vertical-align: middle;\n",
       "    }\n",
       "\n",
       "    .dataframe tbody tr th {\n",
       "        vertical-align: top;\n",
       "    }\n",
       "\n",
       "    .dataframe thead th {\n",
       "        text-align: right;\n",
       "    }\n",
       "</style>\n",
       "<table border=\"1\" class=\"dataframe\">\n",
       "  <thead>\n",
       "    <tr style=\"text-align: right;\">\n",
       "      <th>acorn</th>\n",
       "      <th>A_sigma</th>\n",
       "      <th>B_sigma</th>\n",
       "      <th>C_sigma</th>\n",
       "      <th>D_sigma</th>\n",
       "      <th>E_sigma</th>\n",
       "      <th>F_sigma</th>\n",
       "      <th>G_sigma</th>\n",
       "      <th>H_sigma</th>\n",
       "      <th>I_sigma</th>\n",
       "      <th>J_sigma</th>\n",
       "      <th>...</th>\n",
       "      <th>N_count</th>\n",
       "      <th>O_count</th>\n",
       "      <th>P_count</th>\n",
       "      <th>Q_count</th>\n",
       "      <th>U_count</th>\n",
       "      <th>sigma</th>\n",
       "      <th>count</th>\n",
       "      <th>mean</th>\n",
       "      <th>stds</th>\n",
       "      <th>std</th>\n",
       "    </tr>\n",
       "    <tr>\n",
       "      <th>datetime</th>\n",
       "      <th></th>\n",
       "      <th></th>\n",
       "      <th></th>\n",
       "      <th></th>\n",
       "      <th></th>\n",
       "      <th></th>\n",
       "      <th></th>\n",
       "      <th></th>\n",
       "      <th></th>\n",
       "      <th></th>\n",
       "      <th></th>\n",
       "      <th></th>\n",
       "      <th></th>\n",
       "      <th></th>\n",
       "      <th></th>\n",
       "      <th></th>\n",
       "      <th></th>\n",
       "      <th></th>\n",
       "      <th></th>\n",
       "      <th></th>\n",
       "      <th></th>\n",
       "    </tr>\n",
       "  </thead>\n",
       "  <tbody>\n",
       "    <tr>\n",
       "      <th>2012-07-31 07:30:00</th>\n",
       "      <td>29.020</td>\n",
       "      <td>2.245</td>\n",
       "      <td>17.247</td>\n",
       "      <td>50.806</td>\n",
       "      <td>211.524</td>\n",
       "      <td>79.313</td>\n",
       "      <td>17.783</td>\n",
       "      <td>39.523</td>\n",
       "      <td>4.926</td>\n",
       "      <td>7.159</td>\n",
       "      <td>...</td>\n",
       "      <td>88</td>\n",
       "      <td>61</td>\n",
       "      <td>83</td>\n",
       "      <td>675</td>\n",
       "      <td>30</td>\n",
       "      <td>649.112000</td>\n",
       "      <td>3785</td>\n",
       "      <td>0.171496</td>\n",
       "      <td>0.217204</td>\n",
       "      <td>0.217204</td>\n",
       "    </tr>\n",
       "    <tr>\n",
       "      <th>2012-07-21 20:30:00</th>\n",
       "      <td>34.115</td>\n",
       "      <td>2.432</td>\n",
       "      <td>19.061</td>\n",
       "      <td>61.806</td>\n",
       "      <td>268.188</td>\n",
       "      <td>113.531</td>\n",
       "      <td>21.912</td>\n",
       "      <td>60.206</td>\n",
       "      <td>7.200</td>\n",
       "      <td>11.631</td>\n",
       "      <td>...</td>\n",
       "      <td>87</td>\n",
       "      <td>61</td>\n",
       "      <td>82</td>\n",
       "      <td>673</td>\n",
       "      <td>29</td>\n",
       "      <td>866.749000</td>\n",
       "      <td>3781</td>\n",
       "      <td>0.229238</td>\n",
       "      <td>0.247175</td>\n",
       "      <td>0.247175</td>\n",
       "    </tr>\n",
       "    <tr>\n",
       "      <th>2012-07-12 06:30:00</th>\n",
       "      <td>33.863</td>\n",
       "      <td>1.374</td>\n",
       "      <td>13.944</td>\n",
       "      <td>48.103</td>\n",
       "      <td>206.964</td>\n",
       "      <td>84.519</td>\n",
       "      <td>17.481</td>\n",
       "      <td>45.824</td>\n",
       "      <td>5.945</td>\n",
       "      <td>10.560</td>\n",
       "      <td>...</td>\n",
       "      <td>87</td>\n",
       "      <td>60</td>\n",
       "      <td>83</td>\n",
       "      <td>662</td>\n",
       "      <td>27</td>\n",
       "      <td>652.901000</td>\n",
       "      <td>3701</td>\n",
       "      <td>0.176412</td>\n",
       "      <td>0.255216</td>\n",
       "      <td>0.255216</td>\n",
       "    </tr>\n",
       "    <tr>\n",
       "      <th>2012-07-06 08:00:00</th>\n",
       "      <td>22.013</td>\n",
       "      <td>2.008</td>\n",
       "      <td>13.561</td>\n",
       "      <td>50.855</td>\n",
       "      <td>211.340</td>\n",
       "      <td>86.431</td>\n",
       "      <td>16.429</td>\n",
       "      <td>44.742</td>\n",
       "      <td>3.784</td>\n",
       "      <td>7.559</td>\n",
       "      <td>...</td>\n",
       "      <td>84</td>\n",
       "      <td>56</td>\n",
       "      <td>78</td>\n",
       "      <td>622</td>\n",
       "      <td>23</td>\n",
       "      <td>640.615999</td>\n",
       "      <td>3478</td>\n",
       "      <td>0.184191</td>\n",
       "      <td>0.224658</td>\n",
       "      <td>0.224658</td>\n",
       "    </tr>\n",
       "    <tr>\n",
       "      <th>2012-07-08 07:30:00</th>\n",
       "      <td>25.032</td>\n",
       "      <td>1.341</td>\n",
       "      <td>12.559</td>\n",
       "      <td>42.299</td>\n",
       "      <td>175.619</td>\n",
       "      <td>75.695</td>\n",
       "      <td>20.244</td>\n",
       "      <td>40.940</td>\n",
       "      <td>3.110</td>\n",
       "      <td>7.810</td>\n",
       "      <td>...</td>\n",
       "      <td>86</td>\n",
       "      <td>58</td>\n",
       "      <td>80</td>\n",
       "      <td>638</td>\n",
       "      <td>26</td>\n",
       "      <td>574.659000</td>\n",
       "      <td>3580</td>\n",
       "      <td>0.160519</td>\n",
       "      <td>0.205303</td>\n",
       "      <td>0.205303</td>\n",
       "    </tr>\n",
       "  </tbody>\n",
       "</table>\n",
       "<p>5 rows × 59 columns</p>\n",
       "</div>"
      ],
      "text/plain": [
       "acorn                A_sigma  B_sigma  C_sigma  D_sigma  E_sigma  F_sigma  \\\n",
       "datetime                                                                    \n",
       "2012-07-31 07:30:00   29.020    2.245   17.247   50.806  211.524   79.313   \n",
       "2012-07-21 20:30:00   34.115    2.432   19.061   61.806  268.188  113.531   \n",
       "2012-07-12 06:30:00   33.863    1.374   13.944   48.103  206.964   84.519   \n",
       "2012-07-06 08:00:00   22.013    2.008   13.561   50.855  211.340   86.431   \n",
       "2012-07-08 07:30:00   25.032    1.341   12.559   42.299  175.619   75.695   \n",
       "\n",
       "acorn                G_sigma  H_sigma  I_sigma  J_sigma  ...  N_count  \\\n",
       "datetime                                                 ...            \n",
       "2012-07-31 07:30:00   17.783   39.523    4.926    7.159  ...       88   \n",
       "2012-07-21 20:30:00   21.912   60.206    7.200   11.631  ...       87   \n",
       "2012-07-12 06:30:00   17.481   45.824    5.945   10.560  ...       87   \n",
       "2012-07-06 08:00:00   16.429   44.742    3.784    7.559  ...       84   \n",
       "2012-07-08 07:30:00   20.244   40.940    3.110    7.810  ...       86   \n",
       "\n",
       "acorn                O_count  P_count  Q_count  U_count       sigma  count  \\\n",
       "datetime                                                                     \n",
       "2012-07-31 07:30:00       61       83      675       30  649.112000   3785   \n",
       "2012-07-21 20:30:00       61       82      673       29  866.749000   3781   \n",
       "2012-07-12 06:30:00       60       83      662       27  652.901000   3701   \n",
       "2012-07-06 08:00:00       56       78      622       23  640.615999   3478   \n",
       "2012-07-08 07:30:00       58       80      638       26  574.659000   3580   \n",
       "\n",
       "acorn                    mean      stds       std  \n",
       "datetime                                           \n",
       "2012-07-31 07:30:00  0.171496  0.217204  0.217204  \n",
       "2012-07-21 20:30:00  0.229238  0.247175  0.247175  \n",
       "2012-07-12 06:30:00  0.176412  0.255216  0.255216  \n",
       "2012-07-06 08:00:00  0.184191  0.224658  0.224658  \n",
       "2012-07-08 07:30:00  0.160519  0.205303  0.205303  \n",
       "\n",
       "[5 rows x 59 columns]"
      ]
     },
     "execution_count": 19,
     "metadata": {},
     "output_type": "execute_result"
    }
   ],
   "source": [
    "# preview a sample from the combined data\n",
    "combined.sample(5)"
   ]
  },
  {
   "cell_type": "markdown",
   "metadata": {},
   "source": [
    "## Save Combined Data"
   ]
  },
  {
   "cell_type": "code",
   "execution_count": 20,
   "metadata": {},
   "outputs": [
    {
     "name": "stdout",
     "output_type": "stream",
     "text": [
      "Outputing to file .\\..\\data\\2012-07-power-survey-london.csv\n"
     ]
    }
   ],
   "source": [
    "print(f\"Outputing to file {output_path}\")\n",
    "\n",
    "combined.to_csv(output_path)\n"
   ]
  },
  {
   "cell_type": "code",
   "execution_count": null,
   "metadata": {},
   "outputs": [],
   "source": []
  }
 ],
 "metadata": {
  "kernelspec": {
   "display_name": "Python 3",
   "language": "python",
   "name": "python3"
  },
  "language_info": {
   "codemirror_mode": {
    "name": "ipython",
    "version": 3
   },
   "file_extension": ".py",
   "mimetype": "text/x-python",
   "name": "python",
   "nbconvert_exporter": "python",
   "pygments_lexer": "ipython3",
   "version": "3.7.3"
  }
 },
 "nbformat": 4,
 "nbformat_minor": 2
}
