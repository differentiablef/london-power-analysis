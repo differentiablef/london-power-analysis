{
 "cells": [
  {
   "cell_type": "code",
   "execution_count": 1,
   "metadata": {},
   "outputs": [],
   "source": [
    "import pandas as pd\n",
    "\n",
    "df = pd.read_csv(\"../../refined/MonthlyMeanPerfect.csv\")\n",
    "dfAcorn = pd.read_csv(\"../../refined/perfectCustomers.csv\")"
   ]
  },
  {
   "cell_type": "markdown",
   "metadata": {},
   "source": [
    "<h2>Label = 'Affluent'</h2>"
   ]
  },
  {
   "cell_type": "code",
   "execution_count": 2,
   "metadata": {},
   "outputs": [],
   "source": [
    "X = df.drop(columns = ['id'])\n",
    "y = (dfAcorn['acorn-grouped'] == 'Affluent').astype(int).values\n",
    "z = dfAcorn['acorn-grouped']\n",
    "\n",
    "target_names = [\"Non-Affluent\", \"Affluent\"]"
   ]
  },
  {
   "cell_type": "code",
   "execution_count": 3,
   "metadata": {},
   "outputs": [],
   "source": [
    "# Perform a train-test split.\n",
    "\n",
    "from sklearn.model_selection import train_test_split\n",
    "\n",
    "# Default split ratio is test = 0.25, train = 0.75.\n",
    "# The stratify=z ensures that we have pro-rata sampling from each acorn-group.\n",
    "\n",
    "X_train, X_test, y_train, y_test = train_test_split(X, y, random_state=31, stratify=z)"
   ]
  },
  {
   "cell_type": "markdown",
   "metadata": {},
   "source": [
    "<h2>LinearSVC</h2>"
   ]
  },
  {
   "cell_type": "code",
   "execution_count": 4,
   "metadata": {
    "scrolled": true
   },
   "outputs": [
    {
     "name": "stdout",
     "output_type": "stream",
     "text": [
      "Fitting 5 folds for each of 6 candidates, totalling 30 fits\n"
     ]
    },
    {
     "name": "stderr",
     "output_type": "stream",
     "text": [
      "[Parallel(n_jobs=-1)]: Using backend LokyBackend with 4 concurrent workers.\n",
      "[Parallel(n_jobs=-1)]: Done  30 out of  30 | elapsed:  7.5min finished\n"
     ]
    },
    {
     "name": "stdout",
     "output_type": "stream",
     "text": [
      "{'C': 1}\n",
      "[LibSVM] .. Done\n",
      "Train accuracy =  0.8863636363636364\n",
      "Test accuracy  =  0.5882352941176471\n",
      "              precision    recall  f1-score   support\n",
      "\n",
      "Non-Affluent       0.60      0.95      0.73       133\n",
      "    Affluent       0.36      0.05      0.08        88\n",
      "\n",
      "   micro avg       0.59      0.59      0.59       221\n",
      "   macro avg       0.48      0.50      0.41       221\n",
      "weighted avg       0.51      0.59      0.47       221\n",
      "\n"
     ]
    },
    {
     "name": "stderr",
     "output_type": "stream",
     "text": [
      "C:\\Users\\jgree\\Anaconda3\\Lib\\site-packages\\sklearn\\svm\\base.py:931: ConvergenceWarning: Liblinear failed to converge, increase the number of iterations.\n",
      "  \"the number of iterations.\", ConvergenceWarning)\n",
      "C:\\Users\\jgree\\Anaconda3\\Lib\\site-packages\\sklearn\\svm\\base.py:196: FutureWarning: The default value of gamma will change from 'auto' to 'scale' in version 0.22 to account better for unscaled features. Set gamma explicitly to 'auto' or 'scale' to avoid this warning.\n",
      "  \"avoid this warning.\", FutureWarning)\n"
     ]
    }
   ],
   "source": [
    "param_grid = {'C': [1, 2, 5, 10, 20, 50] }\n",
    "\n",
    "from trial import linearSVCTrial\n",
    "\n",
    "linearSVCTrial(param_grid, target_names, X_train, X_test, y_train, y_test)"
   ]
  },
  {
   "cell_type": "markdown",
   "metadata": {},
   "source": [
    "<h2>SVC Linear</h2>"
   ]
  },
  {
   "cell_type": "code",
   "execution_count": 5,
   "metadata": {},
   "outputs": [
    {
     "name": "stdout",
     "output_type": "stream",
     "text": [
      "Fitting 5 folds for each of 16 candidates, totalling 80 fits\n"
     ]
    },
    {
     "name": "stderr",
     "output_type": "stream",
     "text": [
      "[Parallel(n_jobs=-1)]: Using backend LokyBackend with 4 concurrent workers.\n",
      "[Parallel(n_jobs=-1)]: Done  24 tasks      | elapsed:    7.3s\n",
      "[Parallel(n_jobs=-1)]: Done  80 out of  80 | elapsed:   36.9s finished\n"
     ]
    },
    {
     "name": "stdout",
     "output_type": "stream",
     "text": [
      "{'C': 1, 'gamma': 0.0001}\n",
      "[LibSVM] .. Done\n",
      "Train accuracy =  0.6196969696969697\n",
      "Test accuracy  =  0.6289592760180995\n",
      "              precision    recall  f1-score   support\n",
      "\n",
      "Non-Affluent       0.62      0.98      0.76       133\n",
      "    Affluent       0.75      0.10      0.18        88\n",
      "\n",
      "   micro avg       0.63      0.63      0.63       221\n",
      "   macro avg       0.69      0.54      0.47       221\n",
      "weighted avg       0.67      0.63      0.53       221\n",
      "\n"
     ]
    },
    {
     "name": "stderr",
     "output_type": "stream",
     "text": [
      "C:\\Users\\jgree\\Anaconda3\\Lib\\site-packages\\sklearn\\svm\\base.py:244: ConvergenceWarning: Solver terminated early (max_iter=1000000).  Consider pre-processing your data with StandardScaler or MinMaxScaler.\n",
      "  % self.max_iter, ConvergenceWarning)\n"
     ]
    }
   ],
   "source": [
    "param_grid = {'C': [1, 5, 10, 50], 'gamma': [0.0001, 0.0005, 0.001, 0.005]}\n",
    "\n",
    "from trial import linearTrial\n",
    "\n",
    "linearTrial(param_grid, target_names, X_train, X_test, y_train, y_test)"
   ]
  },
  {
   "cell_type": "markdown",
   "metadata": {},
   "source": [
    "<h2>SVC Polynomial</h2>"
   ]
  },
  {
   "cell_type": "code",
   "execution_count": 6,
   "metadata": {},
   "outputs": [
    {
     "name": "stderr",
     "output_type": "stream",
     "text": [
      "[Parallel(n_jobs=-1)]: Using backend LokyBackend with 4 concurrent workers.\n"
     ]
    },
    {
     "name": "stdout",
     "output_type": "stream",
     "text": [
      "Fitting 5 folds for each of 112 candidates, totalling 560 fits\n"
     ]
    },
    {
     "name": "stderr",
     "output_type": "stream",
     "text": [
      "[Parallel(n_jobs=-1)]: Done 100 tasks      | elapsed:   49.3s\n",
      "[Parallel(n_jobs=-1)]: Done 205 tasks      | elapsed:  2.0min\n",
      "[Parallel(n_jobs=-1)]: Done 365 tasks      | elapsed:  3.4min\n",
      "[Parallel(n_jobs=-1)]: Done 560 out of 560 | elapsed:  5.3min finished\n",
      "C:\\Users\\jgree\\Anaconda3\\Lib\\site-packages\\sklearn\\model_selection\\_search.py:841: DeprecationWarning: The default of the `iid` parameter will change from True to False in version 0.22 and will be removed in 0.24. This will change numeric results when test-set sizes are unequal.\n",
      "  DeprecationWarning)\n"
     ]
    },
    {
     "name": "stdout",
     "output_type": "stream",
     "text": [
      "{'C': 1, 'degree': 4, 'gamma': 0.001}\n",
      "[LibSVM] .. Done\n",
      "Train accuracy =  0.6439393939393939\n",
      "Test accuracy  =  0.6470588235294118\n",
      "              precision    recall  f1-score   support\n",
      "\n",
      "Non-Affluent       0.65      0.92      0.76       133\n",
      "    Affluent       0.66      0.24      0.35        88\n",
      "\n",
      "   micro avg       0.65      0.65      0.65       221\n",
      "   macro avg       0.65      0.58      0.55       221\n",
      "weighted avg       0.65      0.65      0.60       221\n",
      "\n"
     ]
    }
   ],
   "source": [
    "param_grid = {'C': [1, 5, 10, 50], 'gamma': [0.0001, 0.0005, 0.001, 0.005], 'degree': [4,5,6,7,8,9,10]}\n",
    "\n",
    "from trial import polyTrial\n",
    "\n",
    "polyTrial(param_grid, target_names, X_train, X_test, y_train, y_test)"
   ]
  },
  {
   "cell_type": "markdown",
   "metadata": {},
   "source": [
    "<h2>SVC Radial Basis Functions</h2>"
   ]
  },
  {
   "cell_type": "code",
   "execution_count": 7,
   "metadata": {},
   "outputs": [
    {
     "name": "stdout",
     "output_type": "stream",
     "text": [
      "Fitting 5 folds for each of 16 candidates, totalling 80 fits\n"
     ]
    },
    {
     "name": "stderr",
     "output_type": "stream",
     "text": [
      "[Parallel(n_jobs=-1)]: Using backend LokyBackend with 4 concurrent workers.\n"
     ]
    },
    {
     "name": "stdout",
     "output_type": "stream",
     "text": [
      "{'C': 50, 'gamma': 0.001}\n",
      "[LibSVM] .. Done\n",
      "Train accuracy =  0.7196969696969697\n",
      "Test accuracy  =  0.6515837104072398\n",
      "              precision    recall  f1-score   support\n",
      "\n",
      "Non-Affluent       0.65      0.90      0.76       133\n",
      "    Affluent       0.65      0.27      0.38        88\n",
      "\n",
      "   micro avg       0.65      0.65      0.65       221\n",
      "   macro avg       0.65      0.59      0.57       221\n",
      "weighted avg       0.65      0.65      0.61       221\n",
      "\n"
     ]
    },
    {
     "name": "stderr",
     "output_type": "stream",
     "text": [
      "[Parallel(n_jobs=-1)]: Done  80 out of  80 | elapsed:    1.1s finished\n"
     ]
    }
   ],
   "source": [
    "param_grid = {'C': [1, 5, 10, 50], 'gamma': [0.0001, 0.0005, 0.001, 0.005]}\n",
    "\n",
    "from trial import rbfTrial\n",
    "\n",
    "rbfTrial(param_grid, target_names, X_train, X_test, y_train, y_test)"
   ]
  },
  {
   "cell_type": "markdown",
   "metadata": {},
   "source": [
    "<h2>Label = 'Adversity'</h2>"
   ]
  },
  {
   "cell_type": "code",
   "execution_count": 15,
   "metadata": {},
   "outputs": [],
   "source": [
    "X = df.drop(columns = ['id'])\n",
    "y = (dfAcorn['acorn-grouped'] == 'Adversity').astype(int).values\n",
    "z = dfAcorn['acorn-grouped']\n",
    "\n",
    "target_names = [\"Non-Adversity\", \"Adversity\"]"
   ]
  },
  {
   "cell_type": "code",
   "execution_count": 20,
   "metadata": {},
   "outputs": [],
   "source": [
    "# Perform a train-test split.\n",
    "\n",
    "from sklearn.model_selection import train_test_split\n",
    "\n",
    "# Default split ratio is test = 0.25, train = 0.75.\n",
    "# The stratify=z ensures that we have pro-rata sampling from each acorn-group.\n",
    "\n",
    "X_train, X_test, y_train, y_test = train_test_split(X, y, random_state=40, stratify=z)"
   ]
  },
  {
   "cell_type": "code",
   "execution_count": 23,
   "metadata": {},
   "outputs": [
    {
     "name": "stdout",
     "output_type": "stream",
     "text": [
      "Fitting 5 folds for each of 8 candidates, totalling 40 fits\n"
     ]
    },
    {
     "name": "stderr",
     "output_type": "stream",
     "text": [
      "[Parallel(n_jobs=-1)]: Using backend LokyBackend with 4 concurrent workers.\n"
     ]
    },
    {
     "name": "stdout",
     "output_type": "stream",
     "text": [
      "{'C': 1, 'gamma': 0.01}\n",
      "[LibSVM] .. Done\n",
      "Train accuracy =  0.706060606060606\n",
      "Test accuracy  =  0.6787330316742082\n",
      "               precision    recall  f1-score   support\n",
      "\n",
      "Non-Adversity       0.68      0.99      0.81       151\n",
      "    Adversity       0.00      0.00      0.00        70\n",
      "\n",
      "    micro avg       0.68      0.68      0.68       221\n",
      "    macro avg       0.34      0.50      0.40       221\n",
      " weighted avg       0.47      0.68      0.55       221\n",
      "\n"
     ]
    },
    {
     "name": "stderr",
     "output_type": "stream",
     "text": [
      "[Parallel(n_jobs=-1)]: Done  40 out of  40 | elapsed:    0.6s finished\n"
     ]
    }
   ],
   "source": [
    "param_grid = {'C': [1, 5, 10, 50], 'gamma': [0.005, 0.01]}\n",
    "\n",
    "from trial import rbfTrial\n",
    "\n",
    "rbfTrial(param_grid, target_names, X_train, X_test, y_train, y_test)"
   ]
  },
  {
   "cell_type": "code",
   "execution_count": 32,
   "metadata": {},
   "outputs": [
    {
     "name": "stdout",
     "output_type": "stream",
     "text": [
      "Fitting 5 folds for each of 16 candidates, totalling 80 fits\n"
     ]
    },
    {
     "name": "stderr",
     "output_type": "stream",
     "text": [
      "[Parallel(n_jobs=-1)]: Using backend LokyBackend with 4 concurrent workers.\n",
      "[Parallel(n_jobs=-1)]: Done  24 tasks      | elapsed:   15.3s\n",
      "[Parallel(n_jobs=-1)]: Done  80 out of  80 | elapsed:   50.0s finished\n"
     ]
    },
    {
     "name": "stdout",
     "output_type": "stream",
     "text": [
      "{'C': 1, 'gamma': 0.0001}\n",
      "[LibSVM] .. Done\n",
      "Train accuracy =  0.6803030303030303\n",
      "Test accuracy  =  0.6832579185520362\n",
      "               precision    recall  f1-score   support\n",
      "\n",
      "Non-Adversity       0.68      1.00      0.81       151\n",
      "    Adversity       0.00      0.00      0.00        70\n",
      "\n",
      "    micro avg       0.68      0.68      0.68       221\n",
      "    macro avg       0.34      0.50      0.41       221\n",
      " weighted avg       0.47      0.68      0.55       221\n",
      "\n"
     ]
    },
    {
     "name": "stderr",
     "output_type": "stream",
     "text": [
      "C:\\Users\\jgree\\Anaconda3\\Lib\\site-packages\\sklearn\\svm\\base.py:244: ConvergenceWarning: Solver terminated early (max_iter=1000000).  Consider pre-processing your data with StandardScaler or MinMaxScaler.\n",
      "  % self.max_iter, ConvergenceWarning)\n",
      "C:\\Users\\jgree\\Anaconda3\\Lib\\site-packages\\sklearn\\metrics\\classification.py:1143: UndefinedMetricWarning: Precision and F-score are ill-defined and being set to 0.0 in labels with no predicted samples.\n",
      "  'precision', 'predicted', average, warn_for)\n"
     ]
    }
   ],
   "source": [
    "param_grid = {'C': [1, 5, 10, 50], 'gamma': [0.0001, 0.0005, 0.001, 0.005]}\n",
    "\n",
    "from trial import linearTrial\n",
    "\n",
    "linearTrial(param_grid, target_names, X_train, X_test, y_train, y_test)"
   ]
  },
  {
   "cell_type": "markdown",
   "metadata": {},
   "source": [
    "<h2>Label = 'Comfortable'</h2>"
   ]
  },
  {
   "cell_type": "code",
   "execution_count": 33,
   "metadata": {},
   "outputs": [],
   "source": [
    "X = df.drop(columns = ['id'])\n",
    "y = (dfAcorn['acorn-grouped'] == 'Comfortable').astype(int).values\n",
    "z = dfAcorn['acorn-grouped']\n",
    "\n",
    "target_names = [\"Non-Comfortable\", \"Comfortable\"]"
   ]
  },
  {
   "cell_type": "code",
   "execution_count": 34,
   "metadata": {},
   "outputs": [],
   "source": [
    "# Perform a train-test split.\n",
    "\n",
    "from sklearn.model_selection import train_test_split\n",
    "\n",
    "# Default split ratio is test = 0.25, train = 0.75.\n",
    "# The stratify=z ensures that we have pro-rata sampling from each acorn-group.\n",
    "\n",
    "X_train, X_test, y_train, y_test = train_test_split(X, y, random_state=42, stratify=z)"
   ]
  },
  {
   "cell_type": "code",
   "execution_count": 35,
   "metadata": {},
   "outputs": [
    {
     "name": "stdout",
     "output_type": "stream",
     "text": [
      "Fitting 5 folds for each of 8 candidates, totalling 40 fits\n"
     ]
    },
    {
     "name": "stderr",
     "output_type": "stream",
     "text": [
      "[Parallel(n_jobs=-1)]: Using backend LokyBackend with 4 concurrent workers.\n",
      "[Parallel(n_jobs=-1)]: Done  24 tasks      | elapsed:    3.1s\n",
      "[Parallel(n_jobs=-1)]: Done  33 out of  40 | elapsed:    3.3s remaining:    0.6s\n"
     ]
    },
    {
     "name": "stdout",
     "output_type": "stream",
     "text": [
      "{'C': 1, 'gamma': 0.01}\n",
      "[LibSVM] .. Done\n",
      "Train accuracy =  0.7606060606060606\n",
      "Test accuracy  =  0.7285067873303167\n",
      "                 precision    recall  f1-score   support\n",
      "\n",
      "Non-Comfortable       0.73      1.00      0.84       161\n",
      "    Comfortable       0.00      0.00      0.00        60\n",
      "\n",
      "      micro avg       0.73      0.73      0.73       221\n",
      "      macro avg       0.36      0.50      0.42       221\n",
      "   weighted avg       0.53      0.73      0.61       221\n",
      "\n"
     ]
    },
    {
     "name": "stderr",
     "output_type": "stream",
     "text": [
      "[Parallel(n_jobs=-1)]: Done  40 out of  40 | elapsed:    3.3s finished\n",
      "C:\\Users\\jgree\\Anaconda3\\Lib\\site-packages\\sklearn\\metrics\\classification.py:1143: UndefinedMetricWarning: Precision and F-score are ill-defined and being set to 0.0 in labels with no predicted samples.\n",
      "  'precision', 'predicted', average, warn_for)\n"
     ]
    }
   ],
   "source": [
    "param_grid = {'C': [1, 5, 10, 50], 'gamma': [0.005, 0.01]}\n",
    "\n",
    "from trial import rbfTrial\n",
    "\n",
    "rbfTrial(param_grid, target_names, X_train, X_test, y_train, y_test)"
   ]
  },
  {
   "cell_type": "code",
   "execution_count": 39,
   "metadata": {},
   "outputs": [
    {
     "name": "stdout",
     "output_type": "stream",
     "text": [
      "241\n",
      "349\n",
      "281\n"
     ]
    }
   ],
   "source": [
    "print(len(dfAcorn.loc[dfAcorn['acorn-grouped'] == 'Comfortable']))\n",
    "print(len(dfAcorn.loc[dfAcorn['acorn-grouped'] == 'Affluent']))\n",
    "print(len(dfAcorn.loc[dfAcorn['acorn-grouped'] == 'Adversity']))"
   ]
  }
 ],
 "metadata": {
  "kernelspec": {
   "display_name": "Python 3",
   "language": "python",
   "name": "python3"
  },
  "language_info": {
   "codemirror_mode": {
    "name": "ipython",
    "version": 3
   },
   "file_extension": ".py",
   "mimetype": "text/x-python",
   "name": "python",
   "nbconvert_exporter": "python",
   "pygments_lexer": "ipython3",
   "version": "3.7.3"
  }
 },
 "nbformat": 4,
 "nbformat_minor": 2
}
