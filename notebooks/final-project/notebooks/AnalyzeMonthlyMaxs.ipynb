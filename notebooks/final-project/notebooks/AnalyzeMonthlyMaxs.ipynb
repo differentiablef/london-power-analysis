{
 "cells": [
  {
   "cell_type": "code",
   "execution_count": 1,
   "metadata": {},
   "outputs": [],
   "source": [
    "import pandas as pd\n",
    "\n",
    "df = pd.read_csv(\"../../refined/MonthlyMaxPerfect.csv\")\n",
    "dfAcorn = pd.read_csv(\"../../refined/perfectCustomers.csv\")"
   ]
  },
  {
   "cell_type": "markdown",
   "metadata": {},
   "source": [
    "<h2>Label = 'Affluent'</h2>"
   ]
  },
  {
   "cell_type": "code",
   "execution_count": 2,
   "metadata": {},
   "outputs": [],
   "source": [
    "X = df.drop(columns = ['id'])\n",
    "y = (dfAcorn['acorn-grouped'] == 'Affluent').astype(int).values\n",
    "z = dfAcorn['acorn-grouped']\n",
    "\n",
    "target_names = [\"Non-Affluent\", \"Affluent\"]"
   ]
  },
  {
   "cell_type": "code",
   "execution_count": 3,
   "metadata": {},
   "outputs": [],
   "source": [
    "# Perform a train-test split.\n",
    "\n",
    "from sklearn.model_selection import train_test_split\n",
    "\n",
    "# Default split ratio is test = 0.25, train = 0.75.\n",
    "# The stratify=z ensures that we have pro-rata sampling from each acorn-group.\n",
    "\n",
    "X_train, X_test, y_train, y_test = train_test_split(X, y, random_state=31, stratify=z)"
   ]
  },
  {
   "cell_type": "markdown",
   "metadata": {},
   "source": [
    "<h2>LinearSVC</h2>"
   ]
  },
  {
   "cell_type": "code",
   "execution_count": 4,
   "metadata": {
    "scrolled": true
   },
   "outputs": [
    {
     "name": "stdout",
     "output_type": "stream",
     "text": [
      "Fitting 5 folds for each of 6 candidates, totalling 30 fits\n"
     ]
    },
    {
     "name": "stderr",
     "output_type": "stream",
     "text": [
      "[Parallel(n_jobs=-1)]: Using backend LokyBackend with 4 concurrent workers.\n",
      "[Parallel(n_jobs=-1)]: Done  30 out of  30 | elapsed:  7.7min finished\n"
     ]
    },
    {
     "name": "stdout",
     "output_type": "stream",
     "text": [
      "{'C': 1}\n",
      "[LibSVM] .. Done\n",
      "Train accuracy =  0.9712121212121212\n",
      "Test accuracy  =  0.5746606334841629\n",
      "              precision    recall  f1-score   support\n",
      "\n",
      "Non-Affluent       0.59      0.93      0.73       133\n",
      "    Affluent       0.25      0.03      0.06        88\n",
      "\n",
      "   micro avg       0.57      0.57      0.57       221\n",
      "   macro avg       0.42      0.48      0.39       221\n",
      "weighted avg       0.46      0.57      0.46       221\n",
      "\n"
     ]
    },
    {
     "name": "stderr",
     "output_type": "stream",
     "text": [
      "C:\\Users\\jgree\\Anaconda3\\Lib\\site-packages\\sklearn\\svm\\base.py:931: ConvergenceWarning: Liblinear failed to converge, increase the number of iterations.\n",
      "  \"the number of iterations.\", ConvergenceWarning)\n",
      "C:\\Users\\jgree\\Anaconda3\\Lib\\site-packages\\sklearn\\svm\\base.py:196: FutureWarning: The default value of gamma will change from 'auto' to 'scale' in version 0.22 to account better for unscaled features. Set gamma explicitly to 'auto' or 'scale' to avoid this warning.\n",
      "  \"avoid this warning.\", FutureWarning)\n"
     ]
    }
   ],
   "source": [
    "param_grid = {'C': [1, 2, 5, 10, 20, 50] }\n",
    "\n",
    "from trial import linearSVCTrial\n",
    "\n",
    "linearSVCTrial(param_grid, target_names, X_train, X_test, y_train, y_test)"
   ]
  },
  {
   "cell_type": "markdown",
   "metadata": {},
   "source": [
    "<h2>SVC Linear</h2>"
   ]
  },
  {
   "cell_type": "code",
   "execution_count": 5,
   "metadata": {},
   "outputs": [
    {
     "name": "stderr",
     "output_type": "stream",
     "text": [
      "[Parallel(n_jobs=-1)]: Using backend LokyBackend with 4 concurrent workers.\n"
     ]
    },
    {
     "name": "stdout",
     "output_type": "stream",
     "text": [
      "Fitting 5 folds for each of 16 candidates, totalling 80 fits\n"
     ]
    },
    {
     "name": "stderr",
     "output_type": "stream",
     "text": [
      "[Parallel(n_jobs=-1)]: Done  24 tasks      | elapsed:   10.4s\n",
      "[Parallel(n_jobs=-1)]: Done  80 out of  80 | elapsed:  1.0min finished\n"
     ]
    },
    {
     "name": "stdout",
     "output_type": "stream",
     "text": [
      "{'C': 5, 'gamma': 0.0001}\n",
      "[LibSVM] .. Done\n",
      "Train accuracy =  0.6515151515151515\n",
      "Test accuracy  =  0.6334841628959276\n",
      "              precision    recall  f1-score   support\n",
      "\n",
      "Non-Affluent       0.63      0.94      0.76       133\n",
      "    Affluent       0.65      0.17      0.27        88\n",
      "\n",
      "   micro avg       0.63      0.63      0.63       221\n",
      "   macro avg       0.64      0.56      0.51       221\n",
      "weighted avg       0.64      0.63      0.56       221\n",
      "\n"
     ]
    },
    {
     "name": "stderr",
     "output_type": "stream",
     "text": [
      "C:\\Users\\jgree\\Anaconda3\\Lib\\site-packages\\sklearn\\svm\\base.py:244: ConvergenceWarning: Solver terminated early (max_iter=1000000).  Consider pre-processing your data with StandardScaler or MinMaxScaler.\n",
      "  % self.max_iter, ConvergenceWarning)\n"
     ]
    }
   ],
   "source": [
    "param_grid = {'C': [1, 5, 10, 50], 'gamma': [0.0001, 0.0005, 0.001, 0.005]}\n",
    "\n",
    "from trial import linearTrial\n",
    "\n",
    "linearTrial(param_grid, target_names, X_train, X_test, y_train, y_test)"
   ]
  },
  {
   "cell_type": "markdown",
   "metadata": {},
   "source": [
    "<h2>SVC Polynomial</h2>"
   ]
  },
  {
   "cell_type": "code",
   "execution_count": 6,
   "metadata": {},
   "outputs": [
    {
     "name": "stderr",
     "output_type": "stream",
     "text": [
      "[Parallel(n_jobs=-1)]: Using backend LokyBackend with 4 concurrent workers.\n"
     ]
    },
    {
     "name": "stdout",
     "output_type": "stream",
     "text": [
      "Fitting 5 folds for each of 112 candidates, totalling 560 fits\n"
     ]
    },
    {
     "name": "stderr",
     "output_type": "stream",
     "text": [
      "[Parallel(n_jobs=-1)]: Done  98 tasks      | elapsed:  1.0min\n",
      "[Parallel(n_jobs=-1)]: Done 202 tasks      | elapsed:  2.3min\n",
      "[Parallel(n_jobs=-1)]: Done 362 tasks      | elapsed:  4.5min\n",
      "[Parallel(n_jobs=-1)]: Done 560 out of 560 | elapsed:  7.4min finished\n",
      "C:\\Users\\jgree\\Anaconda3\\Lib\\site-packages\\sklearn\\model_selection\\_search.py:841: DeprecationWarning: The default of the `iid` parameter will change from True to False in version 0.22 and will be removed in 0.24. This will change numeric results when test-set sizes are unequal.\n",
      "  DeprecationWarning)\n"
     ]
    },
    {
     "name": "stdout",
     "output_type": "stream",
     "text": [
      "{'C': 1, 'degree': 4, 'gamma': 0.0005}\n",
      "[LibSVM] .. Done\n",
      "Train accuracy =  0.6727272727272727\n",
      "Test accuracy  =  0.6199095022624435\n",
      "              precision    recall  f1-score   support\n",
      "\n",
      "Non-Affluent       0.63      0.88      0.74       133\n",
      "    Affluent       0.56      0.23      0.32        88\n",
      "\n",
      "   micro avg       0.62      0.62      0.62       221\n",
      "   macro avg       0.59      0.55      0.53       221\n",
      "weighted avg       0.60      0.62      0.57       221\n",
      "\n"
     ]
    }
   ],
   "source": [
    "param_grid = {'C': [1, 5, 10, 50], 'gamma': [0.0001, 0.0005, 0.001, 0.005], 'degree': [4,5,6,7,8,9,10]}\n",
    "\n",
    "from trial import polyTrial\n",
    "\n",
    "polyTrial(param_grid, target_names, X_train, X_test, y_train, y_test)"
   ]
  },
  {
   "cell_type": "markdown",
   "metadata": {},
   "source": [
    "<h2>SVC Radial Basis Functions</h2>"
   ]
  },
  {
   "cell_type": "code",
   "execution_count": 7,
   "metadata": {},
   "outputs": [
    {
     "name": "stdout",
     "output_type": "stream",
     "text": [
      "Fitting 5 folds for each of 20 candidates, totalling 100 fits\n"
     ]
    },
    {
     "name": "stderr",
     "output_type": "stream",
     "text": [
      "[Parallel(n_jobs=-1)]: Using backend LokyBackend with 4 concurrent workers.\n"
     ]
    },
    {
     "name": "stdout",
     "output_type": "stream",
     "text": [
      "{'C': 1, 'gamma': 0.001}\n",
      "[LibSVM] .. Done\n",
      "Train accuracy =  0.6878787878787879\n",
      "Test accuracy  =  0.6199095022624435\n",
      "              precision    recall  f1-score   support\n",
      "\n",
      "Non-Affluent       0.63      0.87      0.73       133\n",
      "    Affluent       0.55      0.24      0.33        88\n",
      "\n",
      "   micro avg       0.62      0.62      0.62       221\n",
      "   macro avg       0.59      0.56      0.53       221\n",
      "weighted avg       0.60      0.62      0.57       221\n",
      "\n"
     ]
    },
    {
     "name": "stderr",
     "output_type": "stream",
     "text": [
      "[Parallel(n_jobs=-1)]: Done 100 out of 100 | elapsed:    1.5s finished\n"
     ]
    }
   ],
   "source": [
    "param_grid = {'C': [1, 5, 10, 50], 'gamma': [0.0001, 0.0005, 0.001, 0.002, 0.005]}\n",
    "\n",
    "from trial import rbfTrial\n",
    "\n",
    "rbfTrial(param_grid, target_names, X_train, X_test, y_train, y_test)"
   ]
  },
  {
   "cell_type": "markdown",
   "metadata": {},
   "source": [
    "<h2>Label = 'Adversity'</h2>"
   ]
  },
  {
   "cell_type": "code",
   "execution_count": 8,
   "metadata": {},
   "outputs": [],
   "source": [
    "X = df.drop(columns = ['id'])\n",
    "y = (dfAcorn['acorn-grouped'] == 'Adversity').astype(int).values\n",
    "z = dfAcorn['acorn-grouped']\n",
    "\n",
    "target_names = [\"Non-Adversity\", \"Adversity\"]"
   ]
  },
  {
   "cell_type": "code",
   "execution_count": 9,
   "metadata": {},
   "outputs": [],
   "source": [
    "# Perform a train-test split.\n",
    "\n",
    "from sklearn.model_selection import train_test_split\n",
    "\n",
    "# Default split ratio is test = 0.25, train = 0.75.\n",
    "# The stratify=z ensures that we have pro-rata sampling from each acorn-group.\n",
    "\n",
    "X_train, X_test, y_train, y_test = train_test_split(X, y, random_state=40, stratify=z)"
   ]
  },
  {
   "cell_type": "code",
   "execution_count": 10,
   "metadata": {},
   "outputs": [
    {
     "name": "stderr",
     "output_type": "stream",
     "text": [
      "[Parallel(n_jobs=-1)]: Using backend LokyBackend with 4 concurrent workers.\n"
     ]
    },
    {
     "name": "stdout",
     "output_type": "stream",
     "text": [
      "Fitting 5 folds for each of 8 candidates, totalling 40 fits\n",
      "{'C': 1, 'gamma': 0.005}\n",
      "[LibSVM] .. Done\n",
      "Train accuracy =  0.7181818181818181\n",
      "Test accuracy  =  0.669683257918552\n",
      "               precision    recall  f1-score   support\n",
      "\n",
      "Non-Adversity       0.68      0.97      0.80       151\n",
      "    Adversity       0.20      0.01      0.03        70\n",
      "\n",
      "    micro avg       0.67      0.67      0.67       221\n",
      "    macro avg       0.44      0.49      0.41       221\n",
      " weighted avg       0.53      0.67      0.56       221\n",
      "\n"
     ]
    },
    {
     "name": "stderr",
     "output_type": "stream",
     "text": [
      "[Parallel(n_jobs=-1)]: Done  40 out of  40 | elapsed:    0.7s finished\n"
     ]
    }
   ],
   "source": [
    "param_grid = {'C': [1, 5, 10, 50], 'gamma': [0.005, 0.01]}\n",
    "\n",
    "from trial import rbfTrial\n",
    "\n",
    "rbfTrial(param_grid, target_names, X_train, X_test, y_train, y_test)"
   ]
  },
  {
   "cell_type": "code",
   "execution_count": 11,
   "metadata": {},
   "outputs": [
    {
     "name": "stderr",
     "output_type": "stream",
     "text": [
      "[Parallel(n_jobs=-1)]: Using backend LokyBackend with 4 concurrent workers.\n"
     ]
    },
    {
     "name": "stdout",
     "output_type": "stream",
     "text": [
      "Fitting 5 folds for each of 16 candidates, totalling 80 fits\n"
     ]
    },
    {
     "name": "stderr",
     "output_type": "stream",
     "text": [
      "[Parallel(n_jobs=-1)]: Done  24 tasks      | elapsed:   18.3s\n",
      "[Parallel(n_jobs=-1)]: Done  80 out of  80 | elapsed:  1.8min finished\n"
     ]
    },
    {
     "name": "stdout",
     "output_type": "stream",
     "text": [
      "{'C': 1, 'gamma': 0.0001}\n",
      "[LibSVM] .. Done\n",
      "Train accuracy =  0.6803030303030303\n",
      "Test accuracy  =  0.6832579185520362\n",
      "               precision    recall  f1-score   support\n",
      "\n",
      "Non-Adversity       0.68      1.00      0.81       151\n",
      "    Adversity       0.00      0.00      0.00        70\n",
      "\n",
      "    micro avg       0.68      0.68      0.68       221\n",
      "    macro avg       0.34      0.50      0.41       221\n",
      " weighted avg       0.47      0.68      0.55       221\n",
      "\n"
     ]
    },
    {
     "name": "stderr",
     "output_type": "stream",
     "text": [
      "C:\\Users\\jgree\\Anaconda3\\Lib\\site-packages\\sklearn\\svm\\base.py:244: ConvergenceWarning: Solver terminated early (max_iter=1000000).  Consider pre-processing your data with StandardScaler or MinMaxScaler.\n",
      "  % self.max_iter, ConvergenceWarning)\n",
      "C:\\Users\\jgree\\Anaconda3\\Lib\\site-packages\\sklearn\\metrics\\classification.py:1143: UndefinedMetricWarning: Precision and F-score are ill-defined and being set to 0.0 in labels with no predicted samples.\n",
      "  'precision', 'predicted', average, warn_for)\n"
     ]
    }
   ],
   "source": [
    "param_grid = {'C': [1, 5, 10, 50], 'gamma': [0.0001, 0.0005, 0.001, 0.005]}\n",
    "\n",
    "from trial import linearTrial\n",
    "\n",
    "linearTrial(param_grid, target_names, X_train, X_test, y_train, y_test)"
   ]
  },
  {
   "cell_type": "markdown",
   "metadata": {},
   "source": [
    "<h2>Label = 'Comfortable'</h2>"
   ]
  },
  {
   "cell_type": "code",
   "execution_count": 12,
   "metadata": {},
   "outputs": [],
   "source": [
    "X = df.drop(columns = ['id'])\n",
    "y = (dfAcorn['acorn-grouped'] == 'Comfortable').astype(int).values\n",
    "z = dfAcorn['acorn-grouped']\n",
    "\n",
    "target_names = [\"Non-Comfortable\", \"Comfortable\"]"
   ]
  },
  {
   "cell_type": "code",
   "execution_count": 13,
   "metadata": {},
   "outputs": [],
   "source": [
    "# Perform a train-test split.\n",
    "\n",
    "from sklearn.model_selection import train_test_split\n",
    "\n",
    "# Default split ratio is test = 0.25, train = 0.75.\n",
    "# The stratify=z ensures that we have pro-rata sampling from each acorn-group.\n",
    "\n",
    "X_train, X_test, y_train, y_test = train_test_split(X, y, random_state=42, stratify=z)"
   ]
  },
  {
   "cell_type": "code",
   "execution_count": 14,
   "metadata": {},
   "outputs": [
    {
     "name": "stderr",
     "output_type": "stream",
     "text": [
      "[Parallel(n_jobs=-1)]: Using backend LokyBackend with 4 concurrent workers.\n"
     ]
    },
    {
     "name": "stdout",
     "output_type": "stream",
     "text": [
      "Fitting 5 folds for each of 8 candidates, totalling 40 fits\n",
      "{'C': 1, 'gamma': 0.005}\n",
      "[LibSVM] .. Done\n",
      "Train accuracy =  0.7848484848484848\n",
      "Test accuracy  =  0.7375565610859729\n",
      "                 precision    recall  f1-score   support\n",
      "\n",
      "Non-Comfortable       0.74      1.00      0.85       161\n",
      "    Comfortable       1.00      0.03      0.06        60\n",
      "\n",
      "      micro avg       0.74      0.74      0.74       221\n",
      "      macro avg       0.87      0.52      0.46       221\n",
      "   weighted avg       0.81      0.74      0.63       221\n",
      "\n"
     ]
    },
    {
     "name": "stderr",
     "output_type": "stream",
     "text": [
      "[Parallel(n_jobs=-1)]: Done  40 out of  40 | elapsed:    0.6s finished\n"
     ]
    }
   ],
   "source": [
    "param_grid = {'C': [1, 5, 10, 50], 'gamma': [0.005, 0.01]}\n",
    "\n",
    "from trial import rbfTrial\n",
    "\n",
    "rbfTrial(param_grid, target_names, X_train, X_test, y_train, y_test)"
   ]
  },
  {
   "cell_type": "code",
   "execution_count": 15,
   "metadata": {},
   "outputs": [
    {
     "name": "stdout",
     "output_type": "stream",
     "text": [
      "241\n",
      "349\n",
      "281\n"
     ]
    }
   ],
   "source": [
    "print(len(dfAcorn.loc[dfAcorn['acorn-grouped'] == 'Comfortable']))\n",
    "print(len(dfAcorn.loc[dfAcorn['acorn-grouped'] == 'Affluent']))\n",
    "print(len(dfAcorn.loc[dfAcorn['acorn-grouped'] == 'Adversity']))"
   ]
  }
 ],
 "metadata": {
  "kernelspec": {
   "display_name": "Python 3",
   "language": "python",
   "name": "python3"
  },
  "language_info": {
   "codemirror_mode": {
    "name": "ipython",
    "version": 3
   },
   "file_extension": ".py",
   "mimetype": "text/x-python",
   "name": "python",
   "nbconvert_exporter": "python",
   "pygments_lexer": "ipython3",
   "version": "3.7.3"
  }
 },
 "nbformat": 4,
 "nbformat_minor": 2
}
