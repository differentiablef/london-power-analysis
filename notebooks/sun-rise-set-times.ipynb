{
 "cells": [
  {
   "cell_type": "code",
   "execution_count": 1,
   "metadata": {},
   "outputs": [],
   "source": [
    "import pandas as pd\n",
    "import os, sys\n",
    "\n",
    "data = dict()"
   ]
  },
  {
   "cell_type": "markdown",
   "metadata": {},
   "source": [
    "# extract sun rise/set times from insane file"
   ]
  },
  {
   "cell_type": "code",
   "execution_count": 2,
   "metadata": {},
   "outputs": [],
   "source": [
    "\n",
    "idx = 0\n",
    "rawpath = os.path.join('..','raw','london-sun-rise-set.txt')\n",
    "with open(rawpath, newline='') as infil:\n",
    "    raw = infil.readlines()\n",
    "\n",
    "source = [ line.strip() for line in raw ]\n",
    "source = [ line for line in source if len(line)>0 ]\n",
    "idx+=1 \n",
    "\n",
    "# extract months\n",
    "months = source[idx].split()\n",
    "\n",
    "idx+=1 # skip month line\n",
    "idx+=1 # skip rise/set line\n",
    "idx+=1 # skip 'h m' line\n",
    "\n",
    "running=True\n",
    "while running:\n",
    "    part = source[idx].split('   ')\n",
    "    try:\n",
    "        day = int(part.pop(0))\n",
    "    except:\n",
    "        break\n",
    "    \n",
    "    pidx = 0\n",
    "    for month in months:\n",
    "        \n",
    "        if pidx >= len(part):\n",
    "            break\n",
    "            \n",
    "        if len(part[pidx]) > 0:\n",
    "            mno = months.index(month)+1\n",
    "            data[(2013, mno, day)] =  \\\n",
    "                [ tuple(map(int, p.split(' '))) for p in part[pidx].split('  ') ]\n",
    "            \n",
    "            pidx+=1\n",
    "        else:\n",
    "            pidx+=5  \n",
    "    idx+=1\n",
    "\n",
    "# skip next header segment\n",
    "idx+=9\n",
    "\n",
    "# extract new months\n",
    "new_months = source[idx].split()\n",
    "months.extend(new_months)\n",
    "\n",
    "idx+=1 # skip month line\n",
    "idx+=1 # skip rise/set line\n",
    "idx+=1 # skip 'h m' line\n",
    "\n",
    "running=True\n",
    "while running:\n",
    "    part = source[idx].split('   ')\n",
    "    \n",
    "    try:\n",
    "        day = int(part.pop(0))\n",
    "    except:\n",
    "        break\n",
    "    \n",
    "    pidx = 0\n",
    "    for month in new_months:\n",
    "        \n",
    "        if pidx >= len(part):\n",
    "            break\n",
    "            \n",
    "        if len(part[pidx]) > 0:\n",
    "            mno = months.index(month)+1\n",
    "            data[(2013, mno, day)] = \\\n",
    "                [ tuple(map(int, p.split(' '))) for p in part[pidx].split('  ') ]\n",
    "            pidx+=1\n",
    "        else:\n",
    "            pidx+=5  \n",
    "    idx+=1\n"
   ]
  },
  {
   "cell_type": "markdown",
   "metadata": {},
   "source": [
    "# generate sane rise/set times"
   ]
  },
  {
   "cell_type": "code",
   "execution_count": 3,
   "metadata": {},
   "outputs": [],
   "source": [
    "date = []\n",
    "sunrise = []\n",
    "sunset = []\n",
    "\n",
    "for k in data:\n",
    "    date.append(\"{}-{}-{}\".format(*k))\n",
    "    sunrise.append( \"{}:{}:00\".format(*(data[k][0])))\n",
    "    sunset.append( \"{}:{}:00\".format(*(data[k][1])))\n",
    "    "
   ]
  },
  {
   "cell_type": "code",
   "execution_count": 5,
   "metadata": {},
   "outputs": [],
   "source": [
    "df = pd.DataFrame({\n",
    "    'date': pd.to_datetime(date),\n",
    "    'sunrise': pd.to_timedelta(sunrise),\n",
    "    'sunset': pd.to_timedelta(sunset)\n",
    "})\n",
    "df.set_index('date', inplace=True)"
   ]
  },
  {
   "cell_type": "code",
   "execution_count": 6,
   "metadata": {},
   "outputs": [],
   "source": [
    "df.to_csv('../data/london-sunrise-sunset.csv')"
   ]
  },
  {
   "cell_type": "code",
   "execution_count": null,
   "metadata": {},
   "outputs": [],
   "source": []
  }
 ],
 "metadata": {
  "kernelspec": {
   "display_name": "Python 3",
   "language": "python",
   "name": "python3"
  },
  "language_info": {
   "codemirror_mode": {
    "name": "ipython",
    "version": 3
   },
   "file_extension": ".py",
   "mimetype": "text/x-python",
   "name": "python",
   "nbconvert_exporter": "python",
   "pygments_lexer": "ipython3",
   "version": "3.7.3"
  }
 },
 "nbformat": 4,
 "nbformat_minor": 2
}
